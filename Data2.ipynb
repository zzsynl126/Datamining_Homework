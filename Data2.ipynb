{
 "cells": [
  {
   "cell_type": "markdown",
   "metadata": {},
   "source": [
    "# 互评作业1：数据探索性分析与数据预处理"
   ]
  },
  {
   "cell_type": "raw",
   "metadata": {},
   "source": [
    "姓名：臧梓硕\n",
    "学号：3120191072\n",
    "学院：计算机学院\n",
    "GitHub:https://github.com/zzsynl126/Datamining_Homework"
   ]
  },
  {
   "cell_type": "markdown",
   "metadata": {},
   "source": [
    "# 目录\n",
    "  \n",
    "## 2. 选用的数据集2：Consumer & Visitor Insights For Neighborhoods¶\n",
    "\n",
    "### 2.1 数据可视化和摘要\n",
    "\n",
    "    数据信息展示\n",
    "\n",
    "    标称属性数据摘要\n",
    "    \n",
    "    数值属性摘要\n",
    "    \n",
    "    数据可视化展示\n",
    "\n",
    "### 2.2 数据缺失值处理\n",
    "    \n",
    "    缺失值原因分析\n",
    "    \n",
    "    将缺失部分剔除\n",
    "    \n",
    "    用高频率值填补缺失值\n",
    "    \n",
    "    通过数据对象之间的相似性填补缺失值\n",
    "    \n",
    "    对缺失值处理的总结\n",
    "\n",
    "\n",
    "    "
   ]
  },
  {
   "cell_type": "markdown",
   "metadata": {},
   "source": [
    "# 选用数据集2：Consumer & Visitor Insights For Neighborhoods "
   ]
  },
  {
   "cell_type": "code",
   "execution_count": 1,
   "metadata": {},
   "outputs": [],
   "source": [
    "# -*- coding: utf-8 -*-\n",
    "import numpy as np\n",
    "import pandas as pd\n",
    "from matplotlib import pyplot as plt\n",
    "import statsmodels.api as sm\n",
    "import scipy.stats as stats\n",
    "import pylab\n",
    "import seaborn as sns\n",
    "from  sklearn.ensemble import RandomForestClassifier\n"
   ]
  },
  {
   "cell_type": "code",
   "execution_count": 2,
   "metadata": {},
   "outputs": [],
   "source": [
    "dtype = {'census_block_group': 'object', 'date_range_start': 'int', 'date_range_end':'int',\n",
    "       'raw_visit_count':'float', 'raw_visitor_count':'float', 'visitor_home_cbgs':'object',\n",
    "       'visitor_work_cbgs':'object', 'distance_from_home':'float', 'related_same_day_brand':'object',\n",
    "       'related_same_month_brand':'object', 'top_brands':'object', 'popularity_by_hour':'object',\n",
    "       'popularity_by_day':'object'}\n",
    "\n",
    "data = pd.read_csv('data/cbg_patterns.csv', dtype=dtype)"
   ]
  },
  {
   "cell_type": "markdown",
   "metadata": {},
   "source": [
    "## 2.1 数据可视化和摘要\n",
    "\n",
    "    数据摘要部分共包括“数据信息展示”、“标称属性数据摘要”、“数值属性数据摘要”、“数据可视化展示”四部分。\n",
    "    \n",
    "### 数据信息展示"
   ]
  },
  {
   "cell_type": "markdown",
   "metadata": {},
   "source": [
    "   **数据集名称:** Consumer & Visitor Insights For Neighborhoods \n",
    "   **数据集地址:** https://www.kaggle.com/safegraph/visit-patterns-by-census-block-group\n",
    "**数据集描述:** 通过分析大量GPS运动数据，SafeGraph得出了CBG的受欢迎程度或到达CBG的距离。\n",
    "同时还将GPS数据与我们在美国的500万个兴趣点的建筑物占地面积数据集（SafeGraph Places）相结合，以确定对商店或饭店等地点的访问。通过这些访问次数来得出消费者见解，例如在CBG中访问过的顶级品牌（例如麦当劳）。\n",
    "    数据集中共包括12个字段，分别为census_block_group、date_range_start、date_range_end 、raw_visit_count、raw_visitor_count、visitor_home_cbgs、visitor_work_cbgs、distance_from_home、related_same_day_brand、related_same_month_brand、top_brands、popularity_by_hour、popularity_by_day。"
   ]
  },
  {
   "cell_type": "code",
   "execution_count": 3,
   "metadata": {},
   "outputs": [
    {
     "name": "stdout",
     "output_type": "stream",
     "text": [
      "<class 'pandas.core.frame.DataFrame'>\n",
      "RangeIndex: 220735 entries, 0 to 220734\n",
      "Data columns (total 13 columns):\n",
      " #   Column                    Non-Null Count   Dtype  \n",
      "---  ------                    --------------   -----  \n",
      " 0   census_block_group        220734 non-null  object \n",
      " 1   date_range_start          220735 non-null  int32  \n",
      " 2   date_range_end            220735 non-null  int32  \n",
      " 3   raw_visit_count           220629 non-null  float64\n",
      " 4   raw_visitor_count         220629 non-null  float64\n",
      " 5   visitor_home_cbgs         220735 non-null  object \n",
      " 6   visitor_work_cbgs         220735 non-null  object \n",
      " 7   distance_from_home        220518 non-null  float64\n",
      " 8   related_same_day_brand    220735 non-null  object \n",
      " 9   related_same_month_brand  220735 non-null  object \n",
      " 10  top_brands                220735 non-null  object \n",
      " 11  popularity_by_hour        220735 non-null  object \n",
      " 12  popularity_by_day         220735 non-null  object \n",
      "dtypes: float64(3), int32(2), object(8)\n",
      "memory usage: 20.2+ MB\n"
     ]
    }
   ],
   "source": [
    "data.info() #数据集概况展示"
   ]
  },
  {
   "cell_type": "code",
   "execution_count": 4,
   "metadata": {
    "scrolled": true
   },
   "outputs": [
    {
     "data": {
      "text/html": [
       "<div>\n",
       "<style scoped>\n",
       "    .dataframe tbody tr th:only-of-type {\n",
       "        vertical-align: middle;\n",
       "    }\n",
       "\n",
       "    .dataframe tbody tr th {\n",
       "        vertical-align: top;\n",
       "    }\n",
       "\n",
       "    .dataframe thead th {\n",
       "        text-align: right;\n",
       "    }\n",
       "</style>\n",
       "<table border=\"1\" class=\"dataframe\">\n",
       "  <thead>\n",
       "    <tr style=\"text-align: right;\">\n",
       "      <th></th>\n",
       "      <th>census_block_group</th>\n",
       "      <th>date_range_start</th>\n",
       "      <th>date_range_end</th>\n",
       "      <th>raw_visit_count</th>\n",
       "      <th>raw_visitor_count</th>\n",
       "      <th>visitor_home_cbgs</th>\n",
       "      <th>visitor_work_cbgs</th>\n",
       "      <th>distance_from_home</th>\n",
       "      <th>related_same_day_brand</th>\n",
       "      <th>related_same_month_brand</th>\n",
       "      <th>top_brands</th>\n",
       "      <th>popularity_by_hour</th>\n",
       "      <th>popularity_by_day</th>\n",
       "    </tr>\n",
       "  </thead>\n",
       "  <tbody>\n",
       "    <tr>\n",
       "      <th>0</th>\n",
       "      <td>010059508001</td>\n",
       "      <td>1538352000</td>\n",
       "      <td>1541030400</td>\n",
       "      <td>75122.0</td>\n",
       "      <td>18314.0</td>\n",
       "      <td>{\"010059501003\":127,\"010059509001\":111,\"010059...</td>\n",
       "      <td>{\"010059501003\":109,\"010810407002\":62,\"0108104...</td>\n",
       "      <td>194724.0</td>\n",
       "      <td>[\"Chick-fil-A\",\"mcdonalds\",\"Marathon Petroleum...</td>\n",
       "      <td>[\"walmart\",\"mcdonalds\",\"Dollar General\",\"Chick...</td>\n",
       "      <td>[\"CrossFit\",\"Health Mart\",\"Coldwell Banker\"]</td>\n",
       "      <td>[2617,2457,2403,2519,2646,3007,3886,7566,5508,...</td>\n",
       "      <td>{\"Monday\":12000,\"Tuesday\":12224,\"Wednesday\":10...</td>\n",
       "    </tr>\n",
       "    <tr>\n",
       "      <th>1</th>\n",
       "      <td>010090506011</td>\n",
       "      <td>1538352000</td>\n",
       "      <td>1541030400</td>\n",
       "      <td>95649.0</td>\n",
       "      <td>38942.0</td>\n",
       "      <td>{\"010730113021\":210,\"010090506022\":205,\"010090...</td>\n",
       "      <td>{\"010890111001\":271,\"010730045001\":269,\"010439...</td>\n",
       "      <td>120587.0</td>\n",
       "      <td>[\"Shell Oil\",\"mcdonalds\",\"Chick-fil-A\",\"Chevron\"]</td>\n",
       "      <td>[\"walmart\",\"mcdonalds\",\"Shell Oil\",\"Chick-fil-...</td>\n",
       "      <td>[]</td>\n",
       "      <td>[6556,6325,6222,6355,6586,7350,8568,8099,7378,...</td>\n",
       "      <td>{\"Monday\":12125,\"Tuesday\":12984,\"Wednesday\":12...</td>\n",
       "    </tr>\n",
       "    <tr>\n",
       "      <th>2</th>\n",
       "      <td>010479572002</td>\n",
       "      <td>1538352000</td>\n",
       "      <td>1541030400</td>\n",
       "      <td>14009.0</td>\n",
       "      <td>3039.0</td>\n",
       "      <td>{\"010479567011\":67,\"010479567021\":60}</td>\n",
       "      <td>{\"010479567021\":52}</td>\n",
       "      <td>67774.0</td>\n",
       "      <td>[\"Dollar General\"]</td>\n",
       "      <td>[\"walmart\",\"Dollar General\",\"mcdonalds\",\"Chevr...</td>\n",
       "      <td>[\"Dollar General\"]</td>\n",
       "      <td>[807,790,796,786,851,951,1134,1797,1355,1241,1...</td>\n",
       "      <td>{\"Monday\":2314,\"Tuesday\":2340,\"Wednesday\":2195...</td>\n",
       "    </tr>\n",
       "    <tr>\n",
       "      <th>3</th>\n",
       "      <td>010690404001</td>\n",
       "      <td>1538352000</td>\n",
       "      <td>1541030400</td>\n",
       "      <td>128169.0</td>\n",
       "      <td>25418.0</td>\n",
       "      <td>{\"010690402013\":370,\"010690402011\":322,\"010690...</td>\n",
       "      <td>{\"010690402024\":313,\"010690415004\":203,\"010450...</td>\n",
       "      <td>42684.0</td>\n",
       "      <td>[\"Chick-fil-A\",\"Sam's Club\",\"Dollar General\",\"...</td>\n",
       "      <td>[\"walmart\",\"Dollar General\",\"mcdonalds\",\"Marat...</td>\n",
       "      <td>[\"Chick-fil-A\",\"Sam's Club\",\"Olive Garden\",\"mc...</td>\n",
       "      <td>[2121,1828,1784,1704,1861,2373,3730,7497,7093,...</td>\n",
       "      <td>{\"Monday\":21141,\"Tuesday\":21143,\"Wednesday\":17...</td>\n",
       "    </tr>\n",
       "    <tr>\n",
       "      <th>4</th>\n",
       "      <td>010730112101</td>\n",
       "      <td>1538352000</td>\n",
       "      <td>1541030400</td>\n",
       "      <td>51453.0</td>\n",
       "      <td>9499.0</td>\n",
       "      <td>{\"010090507001\":183,\"010730113021\":167,\"010730...</td>\n",
       "      <td>{\"010730045001\":140,\"010730027001\":123,\"010730...</td>\n",
       "      <td>18878.0</td>\n",
       "      <td>[\"Chevron\",\"Daylight Donuts\",\"walmart\"]</td>\n",
       "      <td>[\"walmart\",\"Chevron\",\"Dollar General\",\"Shell O...</td>\n",
       "      <td>[\"Chevron\",\"CrossFit\"]</td>\n",
       "      <td>[3804,3716,3686,3672,3735,4115,4855,5946,4526,...</td>\n",
       "      <td>{\"Monday\":8402,\"Tuesday\":8414,\"Wednesday\":8550...</td>\n",
       "    </tr>\n",
       "  </tbody>\n",
       "</table>\n",
       "</div>"
      ],
      "text/plain": [
       "  census_block_group  date_range_start  date_range_end  raw_visit_count  \\\n",
       "0       010059508001        1538352000      1541030400          75122.0   \n",
       "1       010090506011        1538352000      1541030400          95649.0   \n",
       "2       010479572002        1538352000      1541030400          14009.0   \n",
       "3       010690404001        1538352000      1541030400         128169.0   \n",
       "4       010730112101        1538352000      1541030400          51453.0   \n",
       "\n",
       "   raw_visitor_count                                  visitor_home_cbgs  \\\n",
       "0            18314.0  {\"010059501003\":127,\"010059509001\":111,\"010059...   \n",
       "1            38942.0  {\"010730113021\":210,\"010090506022\":205,\"010090...   \n",
       "2             3039.0              {\"010479567011\":67,\"010479567021\":60}   \n",
       "3            25418.0  {\"010690402013\":370,\"010690402011\":322,\"010690...   \n",
       "4             9499.0  {\"010090507001\":183,\"010730113021\":167,\"010730...   \n",
       "\n",
       "                                   visitor_work_cbgs  distance_from_home  \\\n",
       "0  {\"010059501003\":109,\"010810407002\":62,\"0108104...            194724.0   \n",
       "1  {\"010890111001\":271,\"010730045001\":269,\"010439...            120587.0   \n",
       "2                                {\"010479567021\":52}             67774.0   \n",
       "3  {\"010690402024\":313,\"010690415004\":203,\"010450...             42684.0   \n",
       "4  {\"010730045001\":140,\"010730027001\":123,\"010730...             18878.0   \n",
       "\n",
       "                              related_same_day_brand  \\\n",
       "0  [\"Chick-fil-A\",\"mcdonalds\",\"Marathon Petroleum...   \n",
       "1  [\"Shell Oil\",\"mcdonalds\",\"Chick-fil-A\",\"Chevron\"]   \n",
       "2                                 [\"Dollar General\"]   \n",
       "3  [\"Chick-fil-A\",\"Sam's Club\",\"Dollar General\",\"...   \n",
       "4            [\"Chevron\",\"Daylight Donuts\",\"walmart\"]   \n",
       "\n",
       "                            related_same_month_brand  \\\n",
       "0  [\"walmart\",\"mcdonalds\",\"Dollar General\",\"Chick...   \n",
       "1  [\"walmart\",\"mcdonalds\",\"Shell Oil\",\"Chick-fil-...   \n",
       "2  [\"walmart\",\"Dollar General\",\"mcdonalds\",\"Chevr...   \n",
       "3  [\"walmart\",\"Dollar General\",\"mcdonalds\",\"Marat...   \n",
       "4  [\"walmart\",\"Chevron\",\"Dollar General\",\"Shell O...   \n",
       "\n",
       "                                          top_brands  \\\n",
       "0       [\"CrossFit\",\"Health Mart\",\"Coldwell Banker\"]   \n",
       "1                                                 []   \n",
       "2                                 [\"Dollar General\"]   \n",
       "3  [\"Chick-fil-A\",\"Sam's Club\",\"Olive Garden\",\"mc...   \n",
       "4                             [\"Chevron\",\"CrossFit\"]   \n",
       "\n",
       "                                  popularity_by_hour  \\\n",
       "0  [2617,2457,2403,2519,2646,3007,3886,7566,5508,...   \n",
       "1  [6556,6325,6222,6355,6586,7350,8568,8099,7378,...   \n",
       "2  [807,790,796,786,851,951,1134,1797,1355,1241,1...   \n",
       "3  [2121,1828,1784,1704,1861,2373,3730,7497,7093,...   \n",
       "4  [3804,3716,3686,3672,3735,4115,4855,5946,4526,...   \n",
       "\n",
       "                                   popularity_by_day  \n",
       "0  {\"Monday\":12000,\"Tuesday\":12224,\"Wednesday\":10...  \n",
       "1  {\"Monday\":12125,\"Tuesday\":12984,\"Wednesday\":12...  \n",
       "2  {\"Monday\":2314,\"Tuesday\":2340,\"Wednesday\":2195...  \n",
       "3  {\"Monday\":21141,\"Tuesday\":21143,\"Wednesday\":17...  \n",
       "4  {\"Monday\":8402,\"Tuesday\":8414,\"Wednesday\":8550...  "
      ]
     },
     "execution_count": 4,
     "metadata": {},
     "output_type": "execute_result"
    }
   ],
   "source": [
    "data.head() #数据集前5行数据展示"
   ]
  },
  {
   "cell_type": "markdown",
   "metadata": {},
   "source": [
    "### 标称属性摘要\n",
    "\n",
    "   该数据集中的标称属性为唯一代码（census_block_group），因为是唯一代码，所以每个数值出现且仅出现一次。所以频数均为1。"
   ]
  },
  {
   "cell_type": "code",
   "execution_count": 5,
   "metadata": {},
   "outputs": [],
   "source": [
    "#定义数据频数展示函数\n",
    "def ab_data(attr_name):\n",
    "    attr = data[attr_name]\n",
    "    counts = attr.value_counts() #统计不同类别及出现频率\n",
    "    print(\"Colunm name：\",attr_name) #属性名称\n",
    "    print(\"Different values：\",len(counts)) #不同类别个数\n",
    "    attr_l=counts.to_frame()\n",
    "    attr_l.rename(columns={attr_name: 'counts'}, inplace=True)\n",
    "    print(attr_l.iloc[:10])\n",
    "    plt.bar(np.arange(10), counts.iloc[:10])\n",
    "    plt.title(attr_name)\n",
    "    plt.show()"
   ]
  },
  {
   "cell_type": "code",
   "execution_count": 6,
   "metadata": {
    "scrolled": true
   },
   "outputs": [
    {
     "name": "stdout",
     "output_type": "stream",
     "text": [
      "Colunm name： census_block_group\n",
      "Different values： 220734\n",
      "              counts\n",
      "481130192082       1\n",
      "450570112011       1\n",
      "360810757013       1\n",
      "371190060051       1\n",
      "295101164003       1\n",
      "150030096032       1\n",
      "121079506001       1\n",
      "320239604042       1\n",
      "482319605002       1\n",
      "200910535104       1\n"
     ]
    },
    {
     "data": {
      "image/png": "[encoded data removed]",
      "text/plain": [
       "<Figure size 432x288 with 1 Axes>"
      ]
     },
     "metadata": {
      "needs_background": "light"
     },
     "output_type": "display_data"
    },
    {
     "name": "stdout",
     "output_type": "stream",
     "text": [
      "Colunm name： related_same_day_brand\n",
      "Different values： 73198\n",
      "                          counts\n",
      "[]                         35542\n",
      "[\"Dunkin' Donuts\"]          7010\n",
      "[\"starbucks\"]               4178\n",
      "[\"walmart\"]                 3054\n",
      "[\"mcdonalds\"]               2911\n",
      "[\"Wawa\"]                    2831\n",
      "[\"7-Eleven US\"]             2403\n",
      "[\"Publix Super Markets\"]    2272\n",
      "[\"QuikTrip\"]                1812\n",
      "[\"Kroger\"]                  1256\n"
     ]
    },
    {
     "data": {
      "image/png": "[encoded data removed]",
      "text/plain": [
       "<Figure size 432x288 with 1 Axes>"
      ]
     },
     "metadata": {
      "needs_background": "light"
     },
     "output_type": "display_data"
    }
   ],
   "source": [
    "#标称属性的数据频数展示\n",
    "ab_data('census_block_group')\n",
    "ab_data('related_same_day_brand')"
   ]
  },
  {
   "cell_type": "markdown",
   "metadata": {},
   "source": [
    "### 数值属性摘要\n",
    "\n",
    "   该数据集中的数值属性包括开始时间（date_range_start），结束时间（date_range_end）、专家组访问次数（raw_visit_count）、访问者数量（raw_visitor_count）、距离（distance_from_home）。通过观察数据可以看到开始时间和结束时间均相同，因此不对这两个属性进行分析。\n",
    "   下面对专家组访问次数（raw_visit_count）、访问者数量（raw_visitor_count）以及距离（distance_from_home）三个数值属性进行最小值、第一四份位数、平均值、第三四分位数、最大值进行就算给出五数概括，并计算缺失值个数。"
   ]
  },
  {
   "cell_type": "code",
   "execution_count": 7,
   "metadata": {},
   "outputs": [],
   "source": [
    "# 数值数据的五数概括函数及缺失值个数\n",
    "def data_five(att_n):\n",
    "    data_r=data[att_n]\n",
    "    data_min=data_r.min()\n",
    "    data_max=data_r.max()\n",
    "    data_1=data_r.quantile(.25)\n",
    "    data_2=data_r.quantile(.50)\n",
    "    data_3=data_r.quantile(.75)\n",
    "    data_n=data_r.isnull().sum()\n",
    "    print(\"{}的五数概括为：{}, {}, {}, {}, {}；缺失值个数为：{}\".format(att_n,data_min,data_1,data_2,data_3,data_max,data_n))"
   ]
  },
  {
   "cell_type": "code",
   "execution_count": 8,
   "metadata": {},
   "outputs": [
    {
     "name": "stdout",
     "output_type": "stream",
     "text": [
      "raw_visit_count的五数概括为：60.0, 17042.0, 30640.0, 56678.0, 7179900.0；缺失值个数为：106\n",
      "raw_visitor_count的五数概括为：50.0, 3430.0, 6541.0, 13099.0, 6113949.0；缺失值个数为：106\n",
      "distance_from_home的五数概括为：706.0, 8584.0, 14614.0, 31397.75, 6297845.0；缺失值个数为：217\n"
     ]
    }
   ],
   "source": [
    "data_five('raw_visit_count')\n",
    "data_five('raw_visitor_count')\n",
    "data_five('distance_from_home')"
   ]
  },
  {
   "cell_type": "markdown",
   "metadata": {},
   "source": [
    "### 数据可视化展示\n",
    "\n",
    "通过直方图、q-q图以及盒图检查数据的分布以及离群点。"
   ]
  },
  {
   "cell_type": "code",
   "execution_count": 9,
   "metadata": {},
   "outputs": [],
   "source": [
    "#绘制直方图函数\n",
    "def draw_bar(data,att_name):\n",
    "    col=data[att_name].dropna()\n",
    "    plt.hist(col,100)\n",
    "    plt.title(att_name)\n",
    "    plt.show()\n",
    "def draw_qq(data,att_name):\n",
    "    col=data[att_name].dropna()\n",
    "    col = (col - col.mean()) / col.std()\n",
    "    fig = sm.qqplot(col, line='45')\n",
    "    plt.title('q-q plot')\n",
    "    plt.show()\n",
    "def draw_box(data,att_name):\n",
    "    fig, ax = plt.subplots(figsize=(5, 6))\n",
    "    ax.set_title(att_name)\n",
    "    ax.boxplot(data[att_name].dropna())\n",
    "    plt.show()"
   ]
  },
  {
   "cell_type": "markdown",
   "metadata": {},
   "source": [
    "#### 直方图和Q-Q图\n",
    "\n",
    "raw_visit_count的直方图和Q-Q图如下所示："
   ]
  },
  {
   "cell_type": "code",
   "execution_count": 10,
   "metadata": {},
   "outputs": [
    {
     "data": {
      "image/png": "[encoded data removed]",
      "text/plain": [
       "<Figure size 432x288 with 1 Axes>"
      ]
     },
     "metadata": {
      "needs_background": "light"
     },
     "output_type": "display_data"
    }
   ],
   "source": [
    "draw_bar(data,'raw_visit_count') #直方图"
   ]
  },
  {
   "cell_type": "code",
   "execution_count": 11,
   "metadata": {},
   "outputs": [
    {
     "data": {
      "image/png": "[encoded data removed]",
      "text/plain": [
       "<Figure size 432x288 with 1 Axes>"
      ]
     },
     "metadata": {
      "needs_background": "light"
     },
     "output_type": "display_data"
    }
   ],
   "source": [
    "draw_qq(data,'raw_visit_count') #Q-Q图"
   ]
  },
  {
   "cell_type": "markdown",
   "metadata": {},
   "source": [
    "从直方图和Q-Q图中可以看出raw_visit_count中的数据不满足满足正态分布，分布不均匀。"
   ]
  },
  {
   "cell_type": "markdown",
   "metadata": {},
   "source": [
    "raw_visitor_count的直方图和Q-Q图如下图所示"
   ]
  },
  {
   "cell_type": "code",
   "execution_count": 12,
   "metadata": {},
   "outputs": [
    {
     "data": {
      "image/png": "[encoded data removed]",
      "text/plain": [
       "<Figure size 432x288 with 1 Axes>"
      ]
     },
     "metadata": {
      "needs_background": "light"
     },
     "output_type": "display_data"
    }
   ],
   "source": [
    "draw_bar(data,'raw_visitor_count') #直方图"
   ]
  },
  {
   "cell_type": "code",
   "execution_count": 13,
   "metadata": {},
   "outputs": [
    {
     "data": {
      "image/png": "[encoded data removed]",
      "text/plain": [
       "<Figure size 432x288 with 1 Axes>"
      ]
     },
     "metadata": {
      "needs_background": "light"
     },
     "output_type": "display_data"
    }
   ],
   "source": [
    "draw_qq(data,\"raw_visitor_count\") #Q-Q图"
   ]
  },
  {
   "cell_type": "markdown",
   "metadata": {},
   "source": [
    "从raw_visitor_count的直方图和Q-Q图可以看出raw_visitor_count中的数据不满足正态分布，分布不均匀。"
   ]
  },
  {
   "cell_type": "markdown",
   "metadata": {},
   "source": [
    "distance_from_home的直方图和Q-Q图如下图所示"
   ]
  },
  {
   "cell_type": "code",
   "execution_count": 14,
   "metadata": {},
   "outputs": [
    {
     "data": {
      "image/png": "[encoded data removed]",
      "text/plain": [
       "<Figure size 432x288 with 1 Axes>"
      ]
     },
     "metadata": {
      "needs_background": "light"
     },
     "output_type": "display_data"
    }
   ],
   "source": [
    "draw_bar(data,'distance_from_home') #直方图"
   ]
  },
  {
   "cell_type": "code",
   "execution_count": 15,
   "metadata": {},
   "outputs": [
    {
     "data": {
      "image/png": "[encoded data removed]",
      "text/plain": [
       "<Figure size 432x288 with 1 Axes>"
      ]
     },
     "metadata": {
      "needs_background": "light"
     },
     "output_type": "display_data"
    }
   ],
   "source": [
    "draw_qq(data,\"distance_from_home\") #Q-Q图"
   ]
  },
  {
   "cell_type": "markdown",
   "metadata": {},
   "source": [
    "从distance_from_home的直方图和Q-Q图可以看出distance_from_home中的数据不满足正态分布，分布不均匀。"
   ]
  },
  {
   "cell_type": "markdown",
   "metadata": {},
   "source": [
    "#### 盒图"
   ]
  },
  {
   "cell_type": "markdown",
   "metadata": {},
   "source": [
    "raw_visit_count的盒图如下图所示\n"
   ]
  },
  {
   "cell_type": "code",
   "execution_count": 16,
   "metadata": {},
   "outputs": [
    {
     "data": {
      "image/png": "[encoded data removed]",
      "text/plain": [
       "<Figure size 360x432 with 1 Axes>"
      ]
     },
     "metadata": {
      "needs_background": "light"
     },
     "output_type": "display_data"
    }
   ],
   "source": [
    "#raw_visit_count的盒图\n",
    "draw_box(data,'raw_visit_count')"
   ]
  },
  {
   "cell_type": "markdown",
   "metadata": {},
   "source": [
    "从points的盒图中我们也可以看出数据分布较为均匀，存在四个可能的离群点。"
   ]
  },
  {
   "cell_type": "code",
   "execution_count": 17,
   "metadata": {},
   "outputs": [
    {
     "data": {
      "image/png": "[encoded data removed]",
      "text/plain": [
       "<Figure size 360x432 with 1 Axes>"
      ]
     },
     "metadata": {
      "needs_background": "light"
     },
     "output_type": "display_data"
    }
   ],
   "source": [
    "#raw_visitor_count的盒图\n",
    "draw_box(data,'raw_visitor_count')"
   ]
  },
  {
   "cell_type": "markdown",
   "metadata": {},
   "source": [
    "从price的盒图中我们同样可以看出数据存在着不平衡，偏向于较小的值，且数据越大，数据点越稀疏。我们可以看到较多的可能离群点，数据越稀疏的区域是离群点的可能性越大。"
   ]
  },
  {
   "cell_type": "code",
   "execution_count": 18,
   "metadata": {},
   "outputs": [
    {
     "data": {
      "image/png": "[encoded data removed]",
      "text/plain": [
       "<Figure size 360x432 with 1 Axes>"
      ]
     },
     "metadata": {
      "needs_background": "light"
     },
     "output_type": "display_data"
    }
   ],
   "source": [
    "#distance_from_home的盒图\n",
    "draw_box(data,'distance_from_home')"
   ]
  },
  {
   "cell_type": "markdown",
   "metadata": {},
   "source": [
    "从distance_from_home的盒图中我们同样可以看出数据存在着不平衡，偏向于较小的值，且数据越大，数据点越稀疏。我们可以看到较多的可能离群点，数据越稀疏的区域是离群点的可能性越大。"
   ]
  },
  {
   "cell_type": "markdown",
   "metadata": {},
   "source": [
    "## 2.2 数据缺失值处理\n",
    "\n",
    "在这部分我们将分析数据缺失的原因，并通过缺失部分剔除、用高频率值填补缺失值、通过属性的相关关系填补缺失值\n",
    "\n",
    "以及通过数据对象之间的相似性填补缺失值四种策略进行缺失值处理，并进行新旧数据集对比。\n"
   ]
  },
  {
   "cell_type": "code",
   "execution_count": 19,
   "metadata": {},
   "outputs": [
    {
     "data": {
      "text/plain": [
       "census_block_group            1\n",
       "date_range_start              0\n",
       "date_range_end                0\n",
       "raw_visit_count             106\n",
       "raw_visitor_count           106\n",
       "visitor_home_cbgs             0\n",
       "visitor_work_cbgs             0\n",
       "distance_from_home          217\n",
       "related_same_day_brand        0\n",
       "related_same_month_brand      0\n",
       "top_brands                    0\n",
       "popularity_by_hour            0\n",
       "popularity_by_day             0\n",
       "dtype: int64"
      ]
     },
     "execution_count": 19,
     "metadata": {},
     "output_type": "execute_result"
    }
   ],
   "source": [
    "# 对数据中的缺失值进行分析\n",
    "data.isna().sum()"
   ]
  },
  {
   "cell_type": "markdown",
   "metadata": {},
   "source": [
    "#### 缺失值原因分析：####\n",
    "我们可以看到raw_visit_count、raw_visitor_count、distance_from_home 存在缺失值，它们的含义分别为专家访问次数、看到的唯一访问者数量以及访客到CBG的举例。\n",
    "从缺失情况和属性含义上我们可以看出raw_visit_count、raw_visitor_count缺失的原因可能是相同的，原因在于未被访问。同时这部分未被访问者的distance_from_home同样缺失。distance_from_home另一个缺失的原因可能是未记录数据。"
   ]
  },
  {
   "cell_type": "markdown",
   "metadata": {},
   "source": [
    "#### 将缺失部分剔除"
   ]
  },
  {
   "cell_type": "code",
   "execution_count": 20,
   "metadata": {},
   "outputs": [],
   "source": [
    "data_new=data.dropna()"
   ]
  },
  {
   "cell_type": "code",
   "execution_count": 21,
   "metadata": {
    "scrolled": true
   },
   "outputs": [
    {
     "name": "stdout",
     "output_type": "stream",
     "text": [
      "<class 'pandas.core.frame.DataFrame'>\n",
      "Int64Index: 220518 entries, 0 to 220628\n",
      "Data columns (total 13 columns):\n",
      " #   Column                    Non-Null Count   Dtype  \n",
      "---  ------                    --------------   -----  \n",
      " 0   census_block_group        220518 non-null  object \n",
      " 1   date_range_start          220518 non-null  int32  \n",
      " 2   date_range_end            220518 non-null  int32  \n",
      " 3   raw_visit_count           220518 non-null  float64\n",
      " 4   raw_visitor_count         220518 non-null  float64\n",
      " 5   visitor_home_cbgs         220518 non-null  object \n",
      " 6   visitor_work_cbgs         220518 non-null  object \n",
      " 7   distance_from_home        220518 non-null  float64\n",
      " 8   related_same_day_brand    220518 non-null  object \n",
      " 9   related_same_month_brand  220518 non-null  object \n",
      " 10  top_brands                220518 non-null  object \n",
      " 11  popularity_by_hour        220518 non-null  object \n",
      " 12  popularity_by_day         220518 non-null  object \n",
      "dtypes: float64(3), int32(2), object(8)\n",
      "memory usage: 21.9+ MB\n"
     ]
    }
   ],
   "source": [
    "data_new.info()"
   ]
  },
  {
   "cell_type": "markdown",
   "metadata": {},
   "source": [
    "从上面的结果我们可以看到数据集中已经没有缺失的数据集,数据条数为220518条。下面我们通过对新数据集中raw_visit_count的数据摘要的分析探究缺失值去除后对数据集的影响。"
   ]
  },
  {
   "cell_type": "code",
   "execution_count": 22,
   "metadata": {},
   "outputs": [
    {
     "data": {
      "image/png": "[encoded data removed]",
      "text/plain": [
       "<Figure size 432x288 with 1 Axes>"
      ]
     },
     "metadata": {
      "needs_background": "light"
     },
     "output_type": "display_data"
    }
   ],
   "source": [
    "draw_bar(data_new,'raw_visit_count') #新数据\n"
   ]
  },
  {
   "cell_type": "code",
   "execution_count": 23,
   "metadata": {},
   "outputs": [
    {
     "data": {
      "image/png": "[encoded data removed]",
      "text/plain": [
       "<Figure size 432x288 with 1 Axes>"
      ]
     },
     "metadata": {
      "needs_background": "light"
     },
     "output_type": "display_data"
    }
   ],
   "source": [
    "draw_bar(data,'raw_visit_count') #原数据"
   ]
  },
  {
   "cell_type": "markdown",
   "metadata": {},
   "source": [
    "从直方图上进行观察，数据的分布并没有太大变化，所以通过去除属性raw_visit_count缺失值的方式对数据集的数据分布影响不大。"
   ]
  },
  {
   "cell_type": "markdown",
   "metadata": {},
   "source": [
    "\n",
    "#### 用高频率值填补缺失值\n",
    "\n",
    "这里我们以raw_visit_count属性为例。"
   ]
  },
  {
   "cell_type": "code",
   "execution_count": 24,
   "metadata": {},
   "outputs": [
    {
     "name": "stdout",
     "output_type": "stream",
     "text": [
      "众数为： 24531.0\n",
      "新数据直方图：\n"
     ]
    },
    {
     "data": {
      "image/png": "[encoded data removed]",
      "text/plain": [
       "<Figure size 432x288 with 1 Axes>"
      ]
     },
     "metadata": {
      "needs_background": "light"
     },
     "output_type": "display_data"
    },
    {
     "name": "stdout",
     "output_type": "stream",
     "text": [
      "原数据直方图：\n"
     ]
    },
    {
     "data": {
      "image/png": "[encoded data removed]",
      "text/plain": [
       "<Figure size 432x288 with 1 Axes>"
      ]
     },
     "metadata": {
      "needs_background": "light"
     },
     "output_type": "display_data"
    }
   ],
   "source": [
    "mode = data.mode()['raw_visit_count'][0]\n",
    "data_h=data.fillna({'raw_visit_count':mode})\n",
    "print('众数为：',mode)\n",
    "print(\"新数据直方图：\")\n",
    "draw_bar(data_h,'raw_visit_count')\n",
    "print(\"原数据直方图：\")\n",
    "draw_bar(data,'raw_visit_count')"
   ]
  },
  {
   "cell_type": "markdown",
   "metadata": {},
   "source": [
    "从直方图的比较来看，对raw_visit_count属性利用高频率值进行缺失值填充对数据分布影响不大。"
   ]
  },
  {
   "cell_type": "markdown",
   "metadata": {},
   "source": [
    "#### 通过属性的相关关系填补缺失值"
   ]
  },
  {
   "cell_type": "markdown",
   "metadata": {},
   "source": [
    "首先我们通过相关性矩阵分析属性之间的相关关系。"
   ]
  },
  {
   "cell_type": "code",
   "execution_count": 25,
   "metadata": {},
   "outputs": [
    {
     "data": {
      "image/png": "[encoded data removed]",
      "text/plain": [
       "<Figure size 432x288 with 2 Axes>"
      ]
     },
     "metadata": {
      "needs_background": "light"
     },
     "output_type": "display_data"
    }
   ],
   "source": [
    "names = ['raw_visit_count', 'raw_visitor_count', 'distance_from_home']\n",
    "data_r=data.dropna(subset=['raw_visit_count', 'raw_visitor_count', 'distance_from_home'])\n",
    "correlations = data_r.corr()\n",
    "fig = plt.figure() \n",
    "ax = sns.heatmap(correlations,cmap=plt.cm.Greys, linewidths=0.05,vmax=1, vmin=0 ,annot=True,annot_kws={'size':6,'weight':'bold'})\n",
    "plt.xticks(np.arange(3)+0.5,names)\n",
    "plt.yticks(np.arange(3)+0.5,names)\n",
    "ax.set_title('Characteristic correlation')\n",
    "plt.savefig('cluster.tif',dpi=300)\n",
    "plt.show()"
   ]
  },
  {
   "cell_type": "markdown",
   "metadata": {},
   "source": [
    "   从上图中我们可以看到存在明显相关性的属性是raw_visit_count和raw_visitor_count，而distance_from_home属性和另外两组属性可以看作几乎无关联。因此我们利用相关关系对raw_visit_count和raw_visitor_count属性进行填充。\n",
    "   从数据中我们可以看到这两个属性均为同时缺失。从属性含义来看，我认为这两个属性可以同时填充0是比较合适的。"
   ]
  },
  {
   "cell_type": "code",
   "execution_count": 26,
   "metadata": {},
   "outputs": [
    {
     "name": "stdout",
     "output_type": "stream",
     "text": [
      "新数据直方图：\n"
     ]
    },
    {
     "data": {
      "image/png": "[encoded data removed]",
      "text/plain": [
       "<Figure size 432x288 with 1 Axes>"
      ]
     },
     "metadata": {
      "needs_background": "light"
     },
     "output_type": "display_data"
    },
    {
     "name": "stdout",
     "output_type": "stream",
     "text": [
      "原数据直方图：\n"
     ]
    },
    {
     "data": {
      "image/png": "[encoded data removed]",
      "text/plain": [
       "<Figure size 432x288 with 1 Axes>"
      ]
     },
     "metadata": {
      "needs_background": "light"
     },
     "output_type": "display_data"
    }
   ],
   "source": [
    "data_r1=data.fillna({'raw_visit_count':0})\n",
    "print(\"新数据直方图：\")\n",
    "draw_bar(data_h,'raw_visit_count')\n",
    "print(\"原数据直方图：\")\n",
    "draw_bar(data,'raw_visit_count')"
   ]
  },
  {
   "cell_type": "markdown",
   "metadata": {},
   "source": [
    "从直方图看，对属性raw_visit_count缺失值的填充同样影响较小。"
   ]
  },
  {
   "cell_type": "markdown",
   "metadata": {},
   "source": [
    "#### 通过数据对象之间的相似性填补缺失值"
   ]
  },
  {
   "cell_type": "markdown",
   "metadata": {},
   "source": [
    "通过对数据缺失值的分析，distance_from_home属性可以利用数据对象之间的相似性进行缺失值的填充，但是通过上面的相关性分析可以看出distance_from_home和另外两组数值属性关联性不强，所以对利用数据对象之间的相似性进行缺失值填充意义不大。"
   ]
  },
  {
   "cell_type": "markdown",
   "metadata": {},
   "source": [
    "#### 对缺失值处理的总结####"
   ]
  },
  {
   "cell_type": "markdown",
   "metadata": {},
   "source": [
    "从以上新旧数据集的数据分布对比来看，由于该数据集分布并不均匀并且缺失数据个数较整体数据集个数少很多，因此，对于这个数据集来说，缺失数据集的处理对于最终的结果影响不大，并且从缺失值的特点来看，我觉的在后续处理的时候可以将缺失值直接删除。"
   ]
  }
 ],
 "metadata": {
  "kernelspec": {
   "display_name": "Python 3",
   "language": "python",
   "name": "python3"
  },
  "language_info": {
   "codemirror_mode": {
    "name": "ipython",
    "version": 3
   },
   "file_extension": ".py",
   "mimetype": "text/x-python",
   "name": "python",
   "nbconvert_exporter": "python",
   "pygments_lexer": "ipython3",
   "version": "3.7.6"
  }
 },
 "nbformat": 4,
 "nbformat_minor": 2
}
