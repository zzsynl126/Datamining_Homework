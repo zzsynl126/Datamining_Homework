{
 "cells": [
  {
   "cell_type": "markdown",
   "metadata": {},
   "source": [
    "# 互评作业1：数据探索性分析与数据预处理"
   ]
  },
  {
   "cell_type": "markdown",
   "metadata": {},
   "source": [
    "姓名：臧梓硕\n",
    "\n",
    "学号：3120191072\n",
    "\n",
    "学院：计算机学院\n",
    "\n",
    "GitHub:https://github.com/zzsynl126/Datamining_Homework"
   ]
  },
  {
   "cell_type": "markdown",
   "metadata": {},
   "source": [
    "# 目录\n",
    "\n",
    "## 1. 选用数据集1：Wine Reviews\n",
    "\n",
    "### 1.1 数据可视化和摘要\n",
    "\n",
    "    数据信息展示\n",
    "\n",
    "    标称属性数据摘要\n",
    "    \n",
    "    数值属性摘要\n",
    "    \n",
    "    数据可视化展示\n",
    "\n",
    "### 1.2 数据缺失值处理\n",
    "    \n",
    "    缺失值原因分析\n",
    "\n",
    "    将缺失部分剔除\n",
    "\n",
    "    用高频率值填补缺失值\n",
    "\n",
    "    通过数据对象之间的相似性填补缺失值\n",
    "\n",
    "    对缺失值处理的总结\n",
    "    "
   ]
  },
  {
   "cell_type": "markdown",
   "metadata": {},
   "source": [
    "# 1. 选用数据集1：Wine Reviews"
   ]
  },
  {
   "cell_type": "markdown",
   "metadata": {},
   "source": [
    "**说明：** 该数据集包括两个数据文件**winemag-data_first150k.csv** 和**winemag-data-130k-v2.csv**，其中第一个文件为第一版本数据文件，第二个文件是在第一版本文件基础上去重并加入额外三个属性列。\n",
    "本次作业选用**winemag-data_first150k.csv** 进行主要的分析处理。**winemag-data-130k-v2.csv** 文件作为对比数据集。"
   ]
  },
  {
   "cell_type": "code",
   "execution_count": 1,
   "metadata": {},
   "outputs": [],
   "source": [
    "import numpy as np\n",
    "import pandas as pd\n",
    "from matplotlib import pyplot as plt\n",
    "import statsmodels.api as sm\n",
    "from sklearn.linear_model import LinearRegression"
   ]
  },
  {
   "cell_type": "code",
   "execution_count": 2,
   "metadata": {},
   "outputs": [],
   "source": [
    "data = pd.read_csv('data/winemag-data_first150k.csv')\n",
    "data_e=pd.read_csv('data/winemag-data-130k-v2.csv')"
   ]
  },
  {
   "cell_type": "markdown",
   "metadata": {},
   "source": [
    "## 1.1 数据可视化和摘要\n",
    "\n",
    "    数据摘要部分共包括“数据信息展示”、“标称属性数据摘要”、“数值属性数据摘要”、“数据可视化展示”四部分。\n",
    "    \n",
    "### 数据信息展示"
   ]
  },
  {
   "cell_type": "markdown",
   "metadata": {},
   "source": [
    "   数据集名称：Wine Reviews  数据集地址：https://www.kaggle.com/zynicide/wine-reviews\n",
    "数据集描述：该数据集包括10列和15万行的葡萄酒的描述，包括国家、描述、来源葡萄园、评分、价格、省、省或州的葡萄酒产区、特定葡萄酒产区、品种、葡萄酒厂10个属性列"
   ]
  },
  {
   "cell_type": "code",
   "execution_count": 3,
   "metadata": {},
   "outputs": [
    {
     "name": "stdout",
     "output_type": "stream",
     "text": [
      "<class 'pandas.core.frame.DataFrame'>\n",
      "RangeIndex: 150930 entries, 0 to 150929\n",
      "Data columns (total 11 columns):\n",
      " #   Column       Non-Null Count   Dtype  \n",
      "---  ------       --------------   -----  \n",
      " 0   Unnamed: 0   150930 non-null  int64  \n",
      " 1   country      150925 non-null  object \n",
      " 2   description  150930 non-null  object \n",
      " 3   designation  105195 non-null  object \n",
      " 4   points       150930 non-null  int64  \n",
      " 5   price        137235 non-null  float64\n",
      " 6   province     150925 non-null  object \n",
      " 7   region_1     125870 non-null  object \n",
      " 8   region_2     60953 non-null   object \n",
      " 9   variety      150930 non-null  object \n",
      " 10  winery       150930 non-null  object \n",
      "dtypes: float64(1), int64(2), object(8)\n",
      "memory usage: 12.7+ MB\n"
     ]
    }
   ],
   "source": [
    "data.info() #数据集概况展示"
   ]
  },
  {
   "cell_type": "code",
   "execution_count": 4,
   "metadata": {
    "scrolled": true
   },
   "outputs": [
    {
     "data": {
      "text/html": [
       "<div>\n",
       "<style scoped>\n",
       "    .dataframe tbody tr th:only-of-type {\n",
       "        vertical-align: middle;\n",
       "    }\n",
       "\n",
       "    .dataframe tbody tr th {\n",
       "        vertical-align: top;\n",
       "    }\n",
       "\n",
       "    .dataframe thead th {\n",
       "        text-align: right;\n",
       "    }\n",
       "</style>\n",
       "<table border=\"1\" class=\"dataframe\">\n",
       "  <thead>\n",
       "    <tr style=\"text-align: right;\">\n",
       "      <th></th>\n",
       "      <th>Unnamed: 0</th>\n",
       "      <th>country</th>\n",
       "      <th>description</th>\n",
       "      <th>designation</th>\n",
       "      <th>points</th>\n",
       "      <th>price</th>\n",
       "      <th>province</th>\n",
       "      <th>region_1</th>\n",
       "      <th>region_2</th>\n",
       "      <th>variety</th>\n",
       "      <th>winery</th>\n",
       "    </tr>\n",
       "  </thead>\n",
       "  <tbody>\n",
       "    <tr>\n",
       "      <th>0</th>\n",
       "      <td>0</td>\n",
       "      <td>US</td>\n",
       "      <td>This tremendous 100% varietal wine hails from ...</td>\n",
       "      <td>Martha's Vineyard</td>\n",
       "      <td>96</td>\n",
       "      <td>235.0</td>\n",
       "      <td>California</td>\n",
       "      <td>Napa Valley</td>\n",
       "      <td>Napa</td>\n",
       "      <td>Cabernet Sauvignon</td>\n",
       "      <td>Heitz</td>\n",
       "    </tr>\n",
       "    <tr>\n",
       "      <th>1</th>\n",
       "      <td>1</td>\n",
       "      <td>Spain</td>\n",
       "      <td>Ripe aromas of fig, blackberry and cassis are ...</td>\n",
       "      <td>Carodorum Selección Especial Reserva</td>\n",
       "      <td>96</td>\n",
       "      <td>110.0</td>\n",
       "      <td>Northern Spain</td>\n",
       "      <td>Toro</td>\n",
       "      <td>NaN</td>\n",
       "      <td>Tinta de Toro</td>\n",
       "      <td>Bodega Carmen Rodríguez</td>\n",
       "    </tr>\n",
       "    <tr>\n",
       "      <th>2</th>\n",
       "      <td>2</td>\n",
       "      <td>US</td>\n",
       "      <td>Mac Watson honors the memory of a wine once ma...</td>\n",
       "      <td>Special Selected Late Harvest</td>\n",
       "      <td>96</td>\n",
       "      <td>90.0</td>\n",
       "      <td>California</td>\n",
       "      <td>Knights Valley</td>\n",
       "      <td>Sonoma</td>\n",
       "      <td>Sauvignon Blanc</td>\n",
       "      <td>Macauley</td>\n",
       "    </tr>\n",
       "    <tr>\n",
       "      <th>3</th>\n",
       "      <td>3</td>\n",
       "      <td>US</td>\n",
       "      <td>This spent 20 months in 30% new French oak, an...</td>\n",
       "      <td>Reserve</td>\n",
       "      <td>96</td>\n",
       "      <td>65.0</td>\n",
       "      <td>Oregon</td>\n",
       "      <td>Willamette Valley</td>\n",
       "      <td>Willamette Valley</td>\n",
       "      <td>Pinot Noir</td>\n",
       "      <td>Ponzi</td>\n",
       "    </tr>\n",
       "    <tr>\n",
       "      <th>4</th>\n",
       "      <td>4</td>\n",
       "      <td>France</td>\n",
       "      <td>This is the top wine from La Bégude, named aft...</td>\n",
       "      <td>La Brûlade</td>\n",
       "      <td>95</td>\n",
       "      <td>66.0</td>\n",
       "      <td>Provence</td>\n",
       "      <td>Bandol</td>\n",
       "      <td>NaN</td>\n",
       "      <td>Provence red blend</td>\n",
       "      <td>Domaine de la Bégude</td>\n",
       "    </tr>\n",
       "  </tbody>\n",
       "</table>\n",
       "</div>"
      ],
      "text/plain": [
       "   Unnamed: 0 country                                        description  \\\n",
       "0           0      US  This tremendous 100% varietal wine hails from ...   \n",
       "1           1   Spain  Ripe aromas of fig, blackberry and cassis are ...   \n",
       "2           2      US  Mac Watson honors the memory of a wine once ma...   \n",
       "3           3      US  This spent 20 months in 30% new French oak, an...   \n",
       "4           4  France  This is the top wine from La Bégude, named aft...   \n",
       "\n",
       "                            designation  points  price        province  \\\n",
       "0                     Martha's Vineyard      96  235.0      California   \n",
       "1  Carodorum Selección Especial Reserva      96  110.0  Northern Spain   \n",
       "2         Special Selected Late Harvest      96   90.0      California   \n",
       "3                               Reserve      96   65.0          Oregon   \n",
       "4                            La Brûlade      95   66.0        Provence   \n",
       "\n",
       "            region_1           region_2             variety  \\\n",
       "0        Napa Valley               Napa  Cabernet Sauvignon   \n",
       "1               Toro                NaN       Tinta de Toro   \n",
       "2     Knights Valley             Sonoma     Sauvignon Blanc   \n",
       "3  Willamette Valley  Willamette Valley          Pinot Noir   \n",
       "4             Bandol                NaN  Provence red blend   \n",
       "\n",
       "                    winery  \n",
       "0                    Heitz  \n",
       "1  Bodega Carmen Rodríguez  \n",
       "2                 Macauley  \n",
       "3                    Ponzi  \n",
       "4     Domaine de la Bégude  "
      ]
     },
     "execution_count": 4,
     "metadata": {},
     "output_type": "execute_result"
    }
   ],
   "source": [
    "data.head() #数据集前5行数据展示"
   ]
  },
  {
   "cell_type": "markdown",
   "metadata": {},
   "source": [
    "### 标称属性摘要\n",
    "\n",
    "   该数据集中的标称属性包括国家(country)、来源葡萄园（designation）、省（province）、省或州的葡萄酒产区（region_1）、特定葡萄酒产区（region_2）、品种（variety）、葡萄酒厂（winery）。统计每一类属性出现的频数，为方便展示，每一个标称属性取其中频数最高的前10个属性数据进行展示，用直方图进行可视化并且计算前10个属性出现的频率。"
   ]
  },
  {
   "cell_type": "code",
   "execution_count": 5,
   "metadata": {},
   "outputs": [],
   "source": [
    "#定义数据频数展示函数\n",
    "def ab_data(attr_name):\n",
    "    attr = data[attr_name]\n",
    "    counts = attr.value_counts() #统计不同类别及出现频率\n",
    "    print(\"Colunm name：\",attr_name) #属性名称\n",
    "    print(\"Different values：\",len(counts)) #不同类别个数\n",
    "    attr_l=counts.to_frame()\n",
    "    attr_l.rename(columns={attr_name: 'counts'}, inplace=True)\n",
    "    print(attr_l.iloc[:10])\n",
    "    plt.bar(np.arange(10), counts.iloc[:10])\n",
    "    plt.title(attr_name)\n",
    "    plt.show()"
   ]
  },
  {
   "cell_type": "code",
   "execution_count": 6,
   "metadata": {
    "scrolled": true
   },
   "outputs": [
    {
     "name": "stdout",
     "output_type": "stream",
     "text": [
      "Colunm name： country\n",
      "Different values： 48\n",
      "             counts\n",
      "US            62397\n",
      "Italy         23478\n",
      "France        21098\n",
      "Spain          8268\n",
      "Chile          5816\n",
      "Argentina      5631\n",
      "Portugal       5322\n",
      "Australia      4957\n",
      "New Zealand    3320\n",
      "Austria        3057\n"
     ]
    },
    {
     "data": {
      "image/png": "[encoded data removed]",
      "text/plain": [
       "<Figure size 432x288 with 1 Axes>"
      ]
     },
     "metadata": {
      "needs_background": "light"
     },
     "output_type": "display_data"
    },
    {
     "name": "stdout",
     "output_type": "stream",
     "text": [
      "Colunm name： designation\n",
      "Different values： 30621\n",
      "                counts\n",
      "Reserve           2752\n",
      "Reserva           1810\n",
      "Estate            1571\n",
      "Barrel sample     1326\n",
      "Riserva            754\n",
      "Barrel Sample      639\n",
      "Brut               624\n",
      "Crianza            503\n",
      "Estate Grown       449\n",
      "Estate Bottled     396\n"
     ]
    },
    {
     "data": {
      "image/png": "[encoded data removed]",
      "text/plain": [
       "<Figure size 432x288 with 1 Axes>"
      ]
     },
     "metadata": {
      "needs_background": "light"
     },
     "output_type": "display_data"
    },
    {
     "name": "stdout",
     "output_type": "stream",
     "text": [
      "Colunm name： province\n",
      "Different values： 455\n",
      "                  counts\n",
      "California         44508\n",
      "Washington          9750\n",
      "Tuscany             7281\n",
      "Bordeaux            6111\n",
      "Northern Spain      4892\n",
      "Mendoza Province    4742\n",
      "Oregon              4589\n",
      "Burgundy            4308\n",
      "Piedmont            4093\n",
      "Veneto              3962\n"
     ]
    },
    {
     "data": {
      "image/png": "[encoded data removed]",
      "text/plain": [
       "<Figure size 432x288 with 1 Axes>"
      ]
     },
     "metadata": {
      "needs_background": "light"
     },
     "output_type": "display_data"
    },
    {
     "name": "stdout",
     "output_type": "stream",
     "text": [
      "Colunm name： region_1\n",
      "Different values： 1236\n",
      "                      counts\n",
      "Napa Valley             6209\n",
      "Columbia Valley (WA)    4975\n",
      "Mendoza                 3586\n",
      "Russian River Valley    3571\n",
      "California              3462\n",
      "Paso Robles             3053\n",
      "Willamette Valley       2096\n",
      "Rioja                   1893\n",
      "Toscana                 1885\n",
      "Sonoma County           1853\n"
     ]
    },
    {
     "data": {
      "image/png": "[encoded data removed]",
      "text/plain": [
       "<Figure size 432x288 with 1 Axes>"
      ]
     },
     "metadata": {
      "needs_background": "light"
     },
     "output_type": "display_data"
    },
    {
     "name": "stdout",
     "output_type": "stream",
     "text": [
      "Colunm name： region_2\n",
      "Different values： 18\n",
      "                         counts\n",
      "Central Coast             13057\n",
      "Sonoma                    11258\n",
      "Columbia Valley            9157\n",
      "Napa                       8801\n",
      "California Other           3516\n",
      "Willamette Valley          3181\n",
      "Mendocino/Lake Counties    2389\n",
      "Sierra Foothills           1660\n",
      "Napa-Sonoma                1645\n",
      "Finger Lakes               1510\n"
     ]
    },
    {
     "data": {
      "image/png": "[encoded data removed]",
      "text/plain": [
       "<Figure size 432x288 with 1 Axes>"
      ]
     },
     "metadata": {
      "needs_background": "light"
     },
     "output_type": "display_data"
    },
    {
     "name": "stdout",
     "output_type": "stream",
     "text": [
      "Colunm name： variety\n",
      "Different values： 632\n",
      "                          counts\n",
      "Chardonnay                 14482\n",
      "Pinot Noir                 14291\n",
      "Cabernet Sauvignon         12800\n",
      "Red Blend                  10062\n",
      "Bordeaux-style Red Blend    7347\n",
      "Sauvignon Blanc             6320\n",
      "Syrah                       5825\n",
      "Riesling                    5524\n",
      "Merlot                      5070\n",
      "Zinfandel                   3799\n"
     ]
    },
    {
     "data": {
      "image/png": "[encoded data removed]",
      "text/plain": [
       "<Figure size 432x288 with 1 Axes>"
      ]
     },
     "metadata": {
      "needs_background": "light"
     },
     "output_type": "display_data"
    },
    {
     "name": "stdout",
     "output_type": "stream",
     "text": [
      "Colunm name： winery\n",
      "Different values： 14810\n",
      "                       counts\n",
      "Williams Selyem           374\n",
      "Testarossa                274\n",
      "DFJ Vinhos                258\n",
      "Chateau Ste. Michelle     225\n",
      "Columbia Crest            217\n",
      "Kendall-Jackson           216\n",
      "Concha y Toro             216\n",
      "Trapiche                  205\n",
      "Bouchard Père & Fils      203\n",
      "Kenwood                   191\n"
     ]
    },
    {
     "data": {
      "image/png": "[encoded data removed]",
      "text/plain": [
       "<Figure size 432x288 with 1 Axes>"
      ]
     },
     "metadata": {
      "needs_background": "light"
     },
     "output_type": "display_data"
    }
   ],
   "source": [
    "#标称属性的数据频数展示\n",
    "ab_data('country')\n",
    "ab_data('designation')\n",
    "ab_data('province')\n",
    "ab_data('region_1')\n",
    "ab_data('region_2')\n",
    "ab_data('variety')\n",
    "ab_data('winery')"
   ]
  },
  {
   "cell_type": "code",
   "execution_count": 7,
   "metadata": {},
   "outputs": [
    {
     "name": "stdout",
     "output_type": "stream",
     "text": [
      "             frequent\n",
      "US           0.413431\n",
      "Italy        0.155561\n",
      "France       0.139791\n",
      "Spain        0.054782\n",
      "Chile        0.038536\n",
      "Argentina    0.037310\n",
      "Portugal     0.035263\n",
      "Australia    0.032844\n",
      "New Zealand  0.021998\n",
      "Austria      0.020255\n",
      "\n",
      "                frequent\n",
      "Reserve         0.026161\n",
      "Reserva         0.017206\n",
      "Estate          0.014934\n",
      "Barrel sample   0.012605\n",
      "Riserva         0.007168\n",
      "Barrel Sample   0.006074\n",
      "Brut            0.005932\n",
      "Crianza         0.004782\n",
      "Estate Grown    0.004268\n",
      "Estate Bottled  0.003764\n",
      "\n",
      "                  frequent\n",
      "California        0.294901\n",
      "Washington        0.064602\n",
      "Tuscany           0.048243\n",
      "Bordeaux          0.040490\n",
      "Northern Spain    0.032413\n",
      "Mendoza Province  0.031420\n",
      "Oregon            0.030406\n",
      "Burgundy          0.028544\n",
      "Piedmont          0.027119\n",
      "Veneto            0.026251\n",
      "\n",
      "                      frequent\n",
      "Napa Valley           0.049329\n",
      "Columbia Valley (WA)  0.039525\n",
      "Mendoza               0.028490\n",
      "Russian River Valley  0.028371\n",
      "California            0.027505\n",
      "Paso Robles           0.024255\n",
      "Willamette Valley     0.016652\n",
      "Rioja                 0.015039\n",
      "Toscana               0.014976\n",
      "Sonoma County         0.014722\n",
      "\n",
      "                         frequent\n",
      "Central Coast            0.214214\n",
      "Sonoma                   0.184700\n",
      "Columbia Valley          0.150231\n",
      "Napa                     0.144390\n",
      "California Other         0.057684\n",
      "Willamette Valley        0.052188\n",
      "Mendocino/Lake Counties  0.039194\n",
      "Sierra Foothills         0.027234\n",
      "Napa-Sonoma              0.026988\n",
      "Finger Lakes             0.024773\n",
      "\n",
      "                          frequent\n",
      "Chardonnay                0.095952\n",
      "Pinot Noir                0.094686\n",
      "Cabernet Sauvignon        0.084808\n",
      "Red Blend                 0.066667\n",
      "Bordeaux-style Red Blend  0.048678\n",
      "Sauvignon Blanc           0.041874\n",
      "Syrah                     0.038594\n",
      "Riesling                  0.036600\n",
      "Merlot                    0.033592\n",
      "Zinfandel                 0.025171\n",
      "\n",
      "                       frequent\n",
      "Williams Selyem        0.002478\n",
      "Testarossa             0.001815\n",
      "DFJ Vinhos             0.001709\n",
      "Chateau Ste. Michelle  0.001491\n",
      "Columbia Crest         0.001438\n",
      "Kendall-Jackson        0.001431\n",
      "Concha y Toro          0.001431\n",
      "Trapiche               0.001358\n",
      "Bouchard Père & Fils   0.001345\n",
      "Kenwood                0.001265\n",
      "\n"
     ]
    }
   ],
   "source": [
    "#计算出现的频率函数\n",
    "def af_data(attr_name):\n",
    "    attr_f=data[attr_name].value_counts(normalize=True).to_frame()\n",
    "    attr_f.rename(columns={attr_name: 'frequent'}, inplace=True)\n",
    "    print(attr_f.iloc[:10])\n",
    "#标称属性的数据频率展示\n",
    "af_data('country')\n",
    "print()\n",
    "af_data('designation')\n",
    "print()\n",
    "af_data('province')\n",
    "print()\n",
    "af_data('region_1')\n",
    "print()\n",
    "af_data('region_2')\n",
    "print()\n",
    "af_data('variety')\n",
    "print()\n",
    "af_data('winery')\n",
    "print()\n"
   ]
  },
  {
   "cell_type": "markdown",
   "metadata": {},
   "source": [
    "### 数值属性摘要\n",
    "\n",
    "   该数据集中的数值属性包括价格（price），评分（points）。下面对两数值属性进行最小值、第一四份位数、平均值、第三四分位数、最大值进行就算给出五数概括，并计算缺失值个数。"
   ]
  },
  {
   "cell_type": "code",
   "execution_count": 8,
   "metadata": {},
   "outputs": [
    {
     "data": {
      "text/html": [
       "<div>\n",
       "<style scoped>\n",
       "    .dataframe tbody tr th:only-of-type {\n",
       "        vertical-align: middle;\n",
       "    }\n",
       "\n",
       "    .dataframe tbody tr th {\n",
       "        vertical-align: top;\n",
       "    }\n",
       "\n",
       "    .dataframe thead th {\n",
       "        text-align: right;\n",
       "    }\n",
       "</style>\n",
       "<table border=\"1\" class=\"dataframe\">\n",
       "  <thead>\n",
       "    <tr style=\"text-align: right;\">\n",
       "      <th></th>\n",
       "      <th>Unnamed: 0</th>\n",
       "      <th>points</th>\n",
       "      <th>price</th>\n",
       "    </tr>\n",
       "  </thead>\n",
       "  <tbody>\n",
       "    <tr>\n",
       "      <th>count</th>\n",
       "      <td>150930.000000</td>\n",
       "      <td>150930.000000</td>\n",
       "      <td>137235.000000</td>\n",
       "    </tr>\n",
       "    <tr>\n",
       "      <th>mean</th>\n",
       "      <td>75464.500000</td>\n",
       "      <td>87.888418</td>\n",
       "      <td>33.131482</td>\n",
       "    </tr>\n",
       "    <tr>\n",
       "      <th>std</th>\n",
       "      <td>43569.882402</td>\n",
       "      <td>3.222392</td>\n",
       "      <td>36.322536</td>\n",
       "    </tr>\n",
       "    <tr>\n",
       "      <th>min</th>\n",
       "      <td>0.000000</td>\n",
       "      <td>80.000000</td>\n",
       "      <td>4.000000</td>\n",
       "    </tr>\n",
       "    <tr>\n",
       "      <th>25%</th>\n",
       "      <td>37732.250000</td>\n",
       "      <td>86.000000</td>\n",
       "      <td>16.000000</td>\n",
       "    </tr>\n",
       "    <tr>\n",
       "      <th>50%</th>\n",
       "      <td>75464.500000</td>\n",
       "      <td>88.000000</td>\n",
       "      <td>24.000000</td>\n",
       "    </tr>\n",
       "    <tr>\n",
       "      <th>75%</th>\n",
       "      <td>113196.750000</td>\n",
       "      <td>90.000000</td>\n",
       "      <td>40.000000</td>\n",
       "    </tr>\n",
       "    <tr>\n",
       "      <th>max</th>\n",
       "      <td>150929.000000</td>\n",
       "      <td>100.000000</td>\n",
       "      <td>2300.000000</td>\n",
       "    </tr>\n",
       "  </tbody>\n",
       "</table>\n",
       "</div>"
      ],
      "text/plain": [
       "          Unnamed: 0         points          price\n",
       "count  150930.000000  150930.000000  137235.000000\n",
       "mean    75464.500000      87.888418      33.131482\n",
       "std     43569.882402       3.222392      36.322536\n",
       "min         0.000000      80.000000       4.000000\n",
       "25%     37732.250000      86.000000      16.000000\n",
       "50%     75464.500000      88.000000      24.000000\n",
       "75%    113196.750000      90.000000      40.000000\n",
       "max    150929.000000     100.000000    2300.000000"
      ]
     },
     "execution_count": 8,
     "metadata": {},
     "output_type": "execute_result"
    }
   ],
   "source": [
    "# 数值数据的五数概括\n",
    "data.describe()"
   ]
  },
  {
   "cell_type": "markdown",
   "metadata": {},
   "source": [
    "    通过describe()函数计算的结果我们可以得到points的五数概括为：80，86，88，90，100；price的五数概括为：4，16，24，40，2300"
   ]
  },
  {
   "cell_type": "code",
   "execution_count": 9,
   "metadata": {},
   "outputs": [
    {
     "name": "stdout",
     "output_type": "stream",
     "text": [
      "point属性缺失值个数： 0\n",
      "\n",
      "price属性缺失值个数： 13695\n"
     ]
    }
   ],
   "source": [
    "#统计数值数据缺失值个数\n",
    "print(\"point属性缺失值个数：\",data.points.isnull().sum()) #计算points的缺失值个数\n",
    "print()\n",
    "print(\"price属性缺失值个数：\",data.price.isnull().sum())  #计算price的缺失值个数"
   ]
  },
  {
   "cell_type": "markdown",
   "metadata": {},
   "source": [
    "通过统计，point属性没有缺失值，price属性中共有13695个缺失值。"
   ]
  },
  {
   "cell_type": "markdown",
   "metadata": {},
   "source": [
    "### 数据可视化展示\n",
    "\n",
    "通过直方图、q-q图以及盒图检查数据的分布以及离群点。"
   ]
  },
  {
   "cell_type": "code",
   "execution_count": 10,
   "metadata": {},
   "outputs": [],
   "source": [
    "#绘制直方图函数\n",
    "def draw_bar(data,att_name):\n",
    "    col=data[att_name].dropna()\n",
    "    plt.hist(col,100)\n",
    "    plt.title(att_name)\n",
    "    plt.show()\n",
    "def draw_qq(data,att_name):\n",
    "    col=data[att_name].dropna()\n",
    "    col = (col - col.mean()) / col.std()\n",
    "    fig = sm.qqplot(col, line='45')\n",
    "    plt.title('q-q plot')\n",
    "    plt.show()\n",
    "def draw_box(data,att_name):\n",
    "    fig, ax = plt.subplots(figsize=(5, 6))\n",
    "    ax.set_title(att_name)\n",
    "    ax.boxplot(data[att_name].dropna())\n",
    "    plt.show()"
   ]
  },
  {
   "cell_type": "markdown",
   "metadata": {},
   "source": [
    "#### 直方图和Q-Q图\n",
    "\n",
    "point的直方图和Q-Q图如下所示："
   ]
  },
  {
   "cell_type": "code",
   "execution_count": 11,
   "metadata": {},
   "outputs": [
    {
     "data": {
      "image/png": "[encoded data removed]",
      "text/plain": [
       "<Figure size 432x288 with 1 Axes>"
      ]
     },
     "metadata": {
      "needs_background": "light"
     },
     "output_type": "display_data"
    }
   ],
   "source": [
    "draw_bar(data,'points') #直方图"
   ]
  },
  {
   "cell_type": "code",
   "execution_count": 12,
   "metadata": {},
   "outputs": [
    {
     "data": {
      "image/png": "[encoded data removed]",
      "text/plain": [
       "<Figure size 432x288 with 1 Axes>"
      ]
     },
     "metadata": {
      "needs_background": "light"
     },
     "output_type": "display_data"
    }
   ],
   "source": [
    "draw_qq(data,\"points\") #Q-Q图"
   ]
  },
  {
   "cell_type": "markdown",
   "metadata": {},
   "source": [
    "从直方图和Q-Q图中可以看出points中的数据近似满足正态分布。"
   ]
  },
  {
   "cell_type": "markdown",
   "metadata": {},
   "source": [
    "price的直方图和Q-Q图如下图所示"
   ]
  },
  {
   "cell_type": "code",
   "execution_count": 13,
   "metadata": {},
   "outputs": [
    {
     "data": {
      "image/png": "[encoded data removed]",
      "text/plain": [
       "<Figure size 432x288 with 1 Axes>"
      ]
     },
     "metadata": {
      "needs_background": "light"
     },
     "output_type": "display_data"
    }
   ],
   "source": [
    "draw_bar(data,'price') #直方图"
   ]
  },
  {
   "cell_type": "code",
   "execution_count": 14,
   "metadata": {},
   "outputs": [
    {
     "data": {
      "image/png": "[encoded data removed]",
      "text/plain": [
       "<Figure size 432x288 with 1 Axes>"
      ]
     },
     "metadata": {
      "needs_background": "light"
     },
     "output_type": "display_data"
    }
   ],
   "source": [
    "draw_qq(data,\"price\") #Q-Q图"
   ]
  },
  {
   "cell_type": "markdown",
   "metadata": {},
   "source": [
    "从price的直方图和Q-Q图可以看出price中的数据不满足正态分布，数据分布向小数据倾斜。"
   ]
  },
  {
   "cell_type": "markdown",
   "metadata": {},
   "source": [
    "#### 盒图"
   ]
  },
  {
   "cell_type": "markdown",
   "metadata": {},
   "source": [
    "points的盒图如下图所示\n"
   ]
  },
  {
   "cell_type": "code",
   "execution_count": 15,
   "metadata": {},
   "outputs": [
    {
     "data": {
      "image/png": "[encoded data removed]",
      "text/plain": [
       "<Figure size 360x432 with 1 Axes>"
      ]
     },
     "metadata": {
      "needs_background": "light"
     },
     "output_type": "display_data"
    }
   ],
   "source": [
    "#points的盒图\n",
    "draw_box(data,'points')"
   ]
  },
  {
   "cell_type": "markdown",
   "metadata": {},
   "source": [
    "从points的盒图中我们也可以看出数据分布较为均匀，存在四个可能的离群点。"
   ]
  },
  {
   "cell_type": "code",
   "execution_count": 16,
   "metadata": {},
   "outputs": [
    {
     "data": {
      "image/png": "[encoded data removed]",
      "text/plain": [
       "<Figure size 360x432 with 1 Axes>"
      ]
     },
     "metadata": {
      "needs_background": "light"
     },
     "output_type": "display_data"
    }
   ],
   "source": [
    "#prince的盒图\n",
    "draw_box(data,'price')"
   ]
  },
  {
   "cell_type": "markdown",
   "metadata": {},
   "source": [
    "从price的盒图中我们同样可以看出数据存在着不平衡，偏向于较小的值，且数据越大，数据点越稀疏。从盒图中我们可以看到较多的可能离群点，并且数据越稀疏的区域的数据点是离群点的可能性越大。"
   ]
  },
  {
   "cell_type": "markdown",
   "metadata": {},
   "source": [
    "### 1.2 数据缺失值处理\n"
   ]
  },
  {
   "cell_type": "code",
   "execution_count": 17,
   "metadata": {
    "scrolled": true
   },
   "outputs": [
    {
     "data": {
      "text/plain": [
       "Unnamed: 0         0\n",
       "country            5\n",
       "description        0\n",
       "designation    45735\n",
       "points             0\n",
       "price          13695\n",
       "province           5\n",
       "region_1       25060\n",
       "region_2       89977\n",
       "variety            0\n",
       "winery             0\n",
       "dtype: int64"
      ]
     },
     "execution_count": 17,
     "metadata": {},
     "output_type": "execute_result"
    }
   ],
   "source": [
    "# 对数据中的缺失值进行分析\n",
    "data.isna().sum()"
   ]
  },
  {
   "cell_type": "markdown",
   "metadata": {},
   "source": [
    "#### 缺失值原因：####\n",
    "\n",
    "从上面的结果我们可以看出共有6个属性存在缺失值。包括country、designation、price、province、region_1、region_2，它们的含义分别为国家、来源葡萄园、评分、价格、省、省或州的葡萄酒产区、特定葡萄酒产区。\n",
    "下面逐一分析出现缺失值的可能原因。\n",
    "1、可以发现country和province两个产地信息的属性的缺失值个数较少，出现缺失值的可能原因在于未标明产地或记录缺失\n",
    "2、price属性缺失值较多，可能是由于未记录\n",
    "3、region_1和region_2同样为产地信息，但缺失值也比较多，原因可能在于这些产地信息力度较细，所以包括的信息数量会相对较少，导致缺省值较多。"
   ]
  },
  {
   "cell_type": "markdown",
   "metadata": {},
   "source": [
    "#### 将缺失部分剔除"
   ]
  },
  {
   "cell_type": "code",
   "execution_count": 18,
   "metadata": {},
   "outputs": [],
   "source": [
    "data_new=data.dropna()"
   ]
  },
  {
   "cell_type": "code",
   "execution_count": 19,
   "metadata": {},
   "outputs": [
    {
     "name": "stdout",
     "output_type": "stream",
     "text": [
      "<class 'pandas.core.frame.DataFrame'>\n",
      "Int64Index: 39241 entries, 0 to 150916\n",
      "Data columns (total 11 columns):\n",
      " #   Column       Non-Null Count  Dtype  \n",
      "---  ------       --------------  -----  \n",
      " 0   Unnamed: 0   39241 non-null  int64  \n",
      " 1   country      39241 non-null  object \n",
      " 2   description  39241 non-null  object \n",
      " 3   designation  39241 non-null  object \n",
      " 4   points       39241 non-null  int64  \n",
      " 5   price        39241 non-null  float64\n",
      " 6   province     39241 non-null  object \n",
      " 7   region_1     39241 non-null  object \n",
      " 8   region_2     39241 non-null  object \n",
      " 9   variety      39241 non-null  object \n",
      " 10  winery       39241 non-null  object \n",
      "dtypes: float64(1), int64(2), object(8)\n",
      "memory usage: 3.6+ MB\n"
     ]
    }
   ],
   "source": [
    "data_new.info()"
   ]
  },
  {
   "cell_type": "markdown",
   "metadata": {},
   "source": [
    "从上面的结果我们可以看到数据集中数据条目数和每个属性的非缺失值均为39241，因此数据集中已经将所有缺失部分进行了剔除。下面我们将利用直方图对新旧数据集以及数据集**winemag-data-130k-v2.csv**中points属性数据进行对比。"
   ]
  },
  {
   "cell_type": "code",
   "execution_count": 20,
   "metadata": {},
   "outputs": [
    {
     "name": "stdout",
     "output_type": "stream",
     "text": [
      "新数据直方图：\n"
     ]
    },
    {
     "data": {
      "image/png": "[encoded data removed]",
      "text/plain": [
       "<Figure size 432x288 with 1 Axes>"
      ]
     },
     "metadata": {
      "needs_background": "light"
     },
     "output_type": "display_data"
    },
    {
     "name": "stdout",
     "output_type": "stream",
     "text": [
      "原数据直方图：\n"
     ]
    },
    {
     "data": {
      "image/png": "[encoded data removed]",
      "text/plain": [
       "<Figure size 432x288 with 1 Axes>"
      ]
     },
     "metadata": {
      "needs_background": "light"
     },
     "output_type": "display_data"
    },
    {
     "name": "stdout",
     "output_type": "stream",
     "text": [
      "对比数据集直方图\n"
     ]
    },
    {
     "data": {
      "image/png": "[encoded data removed]",
      "text/plain": [
       "<Figure size 432x288 with 1 Axes>"
      ]
     },
     "metadata": {
      "needs_background": "light"
     },
     "output_type": "display_data"
    }
   ],
   "source": [
    "print(\"新数据直方图：\")\n",
    "draw_bar(data_new,'points')\n",
    "print(\"原数据直方图：\")\n",
    "draw_bar(data,'points')\n",
    "print(\"对比数据集直方图\")\n",
    "draw_bar(data_e,'points')"
   ]
  },
  {
   "cell_type": "markdown",
   "metadata": {},
   "source": [
    "从直方图的对比我们可以看到新旧数据集中point数据分布基本没有变化仍然呈正态变化，缺失值的处理对数据分布的影响不大，但每个属性值的频数有所变化。"
   ]
  },
  {
   "cell_type": "markdown",
   "metadata": {},
   "source": [
    "\n",
    "#### 用高频率值填补缺失值"
   ]
  },
  {
   "cell_type": "markdown",
   "metadata": {},
   "source": [
    "这里我们以price属性为例"
   ]
  },
  {
   "cell_type": "code",
   "execution_count": 21,
   "metadata": {},
   "outputs": [
    {
     "name": "stdout",
     "output_type": "stream",
     "text": [
      "众数为： 20.0\n",
      "新数据直方图：\n"
     ]
    },
    {
     "data": {
      "image/png": "[encoded data removed]",
      "text/plain": [
       "<Figure size 432x288 with 1 Axes>"
      ]
     },
     "metadata": {
      "needs_background": "light"
     },
     "output_type": "display_data"
    },
    {
     "name": "stdout",
     "output_type": "stream",
     "text": [
      "原数据直方图：\n"
     ]
    },
    {
     "data": {
      "image/png": "[encoded data removed]",
      "text/plain": [
       "<Figure size 432x288 with 1 Axes>"
      ]
     },
     "metadata": {
      "needs_background": "light"
     },
     "output_type": "display_data"
    },
    {
     "name": "stdout",
     "output_type": "stream",
     "text": [
      "对比数据集直方图\n"
     ]
    },
    {
     "data": {
      "image/png": "[encoded data removed]",
      "text/plain": [
       "<Figure size 432x288 with 1 Axes>"
      ]
     },
     "metadata": {
      "needs_background": "light"
     },
     "output_type": "display_data"
    }
   ],
   "source": [
    "mode = data.mode()['price'][0]\n",
    "data_h=data.fillna({'price':mode})\n",
    "print('众数为：',mode)\n",
    "print(\"新数据直方图：\")\n",
    "draw_bar(data_h,'price')\n",
    "print(\"原数据直方图：\")\n",
    "draw_bar(data,'price')\n",
    "print(\"对比数据集直方图\")\n",
    "draw_bar(data_e,'price')"
   ]
  },
  {
   "cell_type": "code",
   "execution_count": 22,
   "metadata": {},
   "outputs": [
    {
     "data": {
      "text/plain": [
       "Unnamed: 0         0\n",
       "country            5\n",
       "description        0\n",
       "designation    45735\n",
       "points             0\n",
       "price              0\n",
       "province           5\n",
       "region_1       25060\n",
       "region_2       89977\n",
       "variety            0\n",
       "winery             0\n",
       "dtype: int64"
      ]
     },
     "execution_count": 22,
     "metadata": {},
     "output_type": "execute_result"
    }
   ],
   "source": [
    "data_h.isna().sum()"
   ]
  },
  {
   "cell_type": "markdown",
   "metadata": {},
   "source": [
    "从上面的结果可以看到所有price的缺失值已经全部用众数填充，从直方图中我们可以看到数据的分布没有变，频度发生变化。"
   ]
  },
  {
   "cell_type": "markdown",
   "metadata": {},
   "source": [
    "#### 通过属性的相关关系填补缺失值"
   ]
  },
  {
   "cell_type": "markdown",
   "metadata": {},
   "source": [
    "我们对数值属性进行相关关系分析，因为数据集中只包括两个数值属性：price和point,因此对这两个属性进行相关性分析。"
   ]
  },
  {
   "cell_type": "code",
   "execution_count": 23,
   "metadata": {},
   "outputs": [
    {
     "data": {
      "image/png": "[encoded data removed]",
      "text/plain": [
       "<Figure size 432x288 with 1 Axes>"
      ]
     },
     "metadata": {
      "needs_background": "light"
     },
     "output_type": "display_data"
    }
   ],
   "source": [
    "data_r = data.dropna(subset=['price'])\n",
    "data_r.plot(kind=\"scatter\", x=\"points\", y=\"price\", alpha=0.05)\n",
    "x = data_r['points']\n",
    "y = data_r['price']\n",
    "X = np.array(x).reshape(-1, 1)\n",
    "model = LinearRegression()\n",
    "model.fit(X, y)\n",
    "plt.plot(X, model.predict(X), 'r-')\n",
    "plt.ylim(0,300)\n",
    "plt.show()"
   ]
  },
  {
   "cell_type": "markdown",
   "metadata": {},
   "source": [
    "从上图可以反映出points和price存在线性相关，因此可以利用线性回归模型，通过point来预测price进行缺失值的填充。"
   ]
  },
  {
   "cell_type": "code",
   "execution_count": 24,
   "metadata": {},
   "outputs": [],
   "source": [
    "data_r = data.copy()\n",
    "for index, row in data_r[data['price'].isna()].iterrows():\n",
    "    row['price'] = model.predict(np.array(row['points']).reshape(-1, 1))\n",
    "    \n"
   ]
  },
  {
   "cell_type": "code",
   "execution_count": 25,
   "metadata": {},
   "outputs": [
    {
     "name": "stdout",
     "output_type": "stream",
     "text": [
      "新数据直方图：\n"
     ]
    },
    {
     "data": {
      "image/png": "[encoded data removed]",
      "text/plain": [
       "<Figure size 432x288 with 1 Axes>"
      ]
     },
     "metadata": {
      "needs_background": "light"
     },
     "output_type": "display_data"
    },
    {
     "name": "stdout",
     "output_type": "stream",
     "text": [
      "原数据直方图：\n"
     ]
    },
    {
     "data": {
      "image/png": "[encoded data removed]",
      "text/plain": [
       "<Figure size 432x288 with 1 Axes>"
      ]
     },
     "metadata": {
      "needs_background": "light"
     },
     "output_type": "display_data"
    },
    {
     "name": "stdout",
     "output_type": "stream",
     "text": [
      "对比数据集直方图\n"
     ]
    },
    {
     "data": {
      "image/png": "[encoded data removed]",
      "text/plain": [
       "<Figure size 432x288 with 1 Axes>"
      ]
     },
     "metadata": {
      "needs_background": "light"
     },
     "output_type": "display_data"
    }
   ],
   "source": [
    "print(\"新数据直方图：\")\n",
    "draw_bar(data_r,'price')\n",
    "print(\"原数据直方图：\")\n",
    "draw_bar(data,'price')\n",
    "print(\"对比数据集直方图\")\n",
    "draw_bar(data_e,'price')"
   ]
  },
  {
   "cell_type": "code",
   "execution_count": 26,
   "metadata": {},
   "outputs": [
    {
     "data": {
      "text/plain": [
       "Unnamed: 0         0\n",
       "country            5\n",
       "description        0\n",
       "designation    45735\n",
       "points             0\n",
       "price              0\n",
       "province           5\n",
       "region_1       25060\n",
       "region_2       89977\n",
       "variety            0\n",
       "winery             0\n",
       "dtype: int64"
      ]
     },
     "execution_count": 26,
     "metadata": {},
     "output_type": "execute_result"
    }
   ],
   "source": [
    "data_h.isna().sum()"
   ]
  },
  {
   "cell_type": "markdown",
   "metadata": {},
   "source": [
    "从上面的结果可以看出所有price缺失值已经利用线性回归进行了预测填充，且数据分布并无较大变化。"
   ]
  },
  {
   "cell_type": "markdown",
   "metadata": {},
   "source": [
    "#### 通过数据对象之间的相似性填补缺失值"
   ]
  },
  {
   "cell_type": "code",
   "execution_count": 27,
   "metadata": {},
   "outputs": [],
   "source": [
    "data_si = data.copy()\n",
    "point2price = {}\n",
    "for row in data_si.iterrows():\n",
    "    if point2price.get(row[1]['points'], None):\n",
    "        if not pd.isnull(row[1]['price']):\n",
    "            point2price[row[1]['points']][0] += row[1]['price']\n",
    "            point2price[row[1]['points']][1] += 1\n",
    "    else:\n",
    "        if not pd.isnull(row[1]['price']):\n",
    "            point2price[row[1]['points']] = [row[1]['price'], 1]\n",
    "    \n",
    "for k in point2price.keys():\n",
    "    point2price[k][0] = round(point2price[k][0] / point2price[k][1], 4)\n",
    "    \n",
    "for row in data_si.iterrows():\n",
    "    if pd.isnull(row[1]['price']):\n",
    "        row[1]['price'] = point2price[row[1]['points']][0]\n",
    "       \n",
    "        "
   ]
  },
  {
   "cell_type": "code",
   "execution_count": 28,
   "metadata": {},
   "outputs": [
    {
     "name": "stdout",
     "output_type": "stream",
     "text": [
      "新数据直方图：\n"
     ]
    },
    {
     "data": {
      "image/png": "[encoded data removed]",
      "text/plain": [
       "<Figure size 432x288 with 1 Axes>"
      ]
     },
     "metadata": {
      "needs_background": "light"
     },
     "output_type": "display_data"
    },
    {
     "name": "stdout",
     "output_type": "stream",
     "text": [
      "原数据直方图：\n"
     ]
    },
    {
     "data": {
      "image/png": "[encoded data removed]",
      "text/plain": [
       "<Figure size 432x288 with 1 Axes>"
      ]
     },
     "metadata": {
      "needs_background": "light"
     },
     "output_type": "display_data"
    },
    {
     "name": "stdout",
     "output_type": "stream",
     "text": [
      "对比数据集直方图\n"
     ]
    },
    {
     "data": {
      "image/png": "[encoded data removed]",
      "text/plain": [
       "<Figure size 432x288 with 1 Axes>"
      ]
     },
     "metadata": {
      "needs_background": "light"
     },
     "output_type": "display_data"
    }
   ],
   "source": [
    "print(\"新数据直方图：\")\n",
    "draw_bar(data_si,'price')\n",
    "print(\"原数据直方图：\")\n",
    "draw_bar(data,'price')\n",
    "print(\"对比数据集直方图\")\n",
    "draw_bar(data_e,'price')"
   ]
  },
  {
   "cell_type": "code",
   "execution_count": 29,
   "metadata": {},
   "outputs": [
    {
     "data": {
      "text/plain": [
       "Unnamed: 0         0\n",
       "country            5\n",
       "description        0\n",
       "designation    45735\n",
       "points             0\n",
       "price              0\n",
       "province           5\n",
       "region_1       25060\n",
       "region_2       89977\n",
       "variety            0\n",
       "winery             0\n",
       "dtype: int64"
      ]
     },
     "execution_count": 29,
     "metadata": {},
     "output_type": "execute_result"
    }
   ],
   "source": [
    "data_h.isna().sum()"
   ]
  },
  {
   "cell_type": "markdown",
   "metadata": {},
   "source": [
    "从上面的结果可以看到所有price缺失值根据相似性填补了缺失值，且数据分布并无较大变化。"
   ]
  },
  {
   "cell_type": "markdown",
   "metadata": {},
   "source": [
    "#### 对缺失值处理的总结####"
   ]
  },
  {
   "cell_type": "markdown",
   "metadata": {},
   "source": [
    "从以上新旧数据集的数据分布对比来看，经过缺省值处理后数据分布并没有大的改变，我觉得原因在于price等属性缺失值个数和整体数据集的数据量相比较小，因此影响不是很大。"
   ]
  },
  {
   "cell_type": "markdown",
   "metadata": {},
   "source": [
    "# 目录\n",
    "  \n",
    "## 2. 选用的数据集2：Consumer & Visitor Insights For Neighborhoods¶\n",
    "\n",
    "### 2.1 数据可视化和摘要\n",
    "\n",
    "    数据信息展示\n",
    "\n",
    "    标称属性数据摘要\n",
    "    \n",
    "    数值属性摘要\n",
    "    \n",
    "    数据可视化展示\n",
    "\n",
    "### 2.2 数据缺失值处理\n",
    "    \n",
    "    缺失值原因分析\n",
    "    \n",
    "    将缺失部分剔除\n",
    "    \n",
    "    用高频率值填补缺失值\n",
    "    \n",
    "    通过数据对象之间的相似性填补缺失值\n",
    "    \n",
    "    对缺失值处理的总结\n",
    "    \n",
    "    \n",
    "# 选用数据集2：Consumer & Visitor Insights For Neighborhoods "
   ]
  },
  {
   "cell_type": "code",
   "execution_count": 30,
   "metadata": {},
   "outputs": [],
   "source": [
    "# -*- coding: utf-8 -*-\n",
    "import numpy as np\n",
    "import pandas as pd\n",
    "from matplotlib import pyplot as plt\n",
    "import statsmodels.api as sm\n",
    "import scipy.stats as stats\n",
    "import pylab\n",
    "import seaborn as sns\n",
    "from  sklearn.ensemble import RandomForestClassifier\n"
   ]
  },
  {
   "cell_type": "code",
   "execution_count": 31,
   "metadata": {},
   "outputs": [],
   "source": [
    "dtype = {'census_block_group': 'object', 'date_range_start': 'int', 'date_range_end':'int',\n",
    "       'raw_visit_count':'float', 'raw_visitor_count':'float', 'visitor_home_cbgs':'object',\n",
    "       'visitor_work_cbgs':'object', 'distance_from_home':'float', 'related_same_day_brand':'object',\n",
    "       'related_same_month_brand':'object', 'top_brands':'object', 'popularity_by_hour':'object',\n",
    "       'popularity_by_day':'object'}\n",
    "\n",
    "data = pd.read_csv('data/cbg_patterns.csv', dtype=dtype)"
   ]
  },
  {
   "cell_type": "markdown",
   "metadata": {},
   "source": [
    "## 2.1 数据可视化和摘要\n",
    "\n",
    "    数据摘要部分共包括“数据信息展示”、“标称属性数据摘要”、“数值属性数据摘要”、“数据可视化展示”四部分。\n",
    "    \n",
    "### 数据信息展示"
   ]
  },
  {
   "cell_type": "markdown",
   "metadata": {},
   "source": [
    "   **数据集名称:** Consumer & Visitor Insights For Neighborhoods \n",
    "   **数据集地址:** https://www.kaggle.com/safegraph/visit-patterns-by-census-block-group\n",
    "   **数据集描述:** 通过分析大量GPS运动数据，SafeGraph得出了CBG的受欢迎程度或到达CBG的距离。\n",
    "同时还将GPS数据与我们在美国的500万个兴趣点的建筑物占地面积数据集（SafeGraph Places）相结合，以确定对商店或饭店等地点的访问。通过这些访问次数来得出消费者见解，例如在CBG中访问过的顶级品牌（例如麦当劳）。\n",
    "    数据集中共包括12个字段，分别为census_block_group、date_range_start、date_range_end 、raw_visit_count、raw_visitor_count、visitor_home_cbgs、visitor_work_cbgs、distance_from_home、related_same_day_brand、related_same_month_brand、top_brands、popularity_by_hour、popularity_by_day。"
   ]
  },
  {
   "cell_type": "code",
   "execution_count": 32,
   "metadata": {},
   "outputs": [
    {
     "name": "stdout",
     "output_type": "stream",
     "text": [
      "<class 'pandas.core.frame.DataFrame'>\n",
      "RangeIndex: 220735 entries, 0 to 220734\n",
      "Data columns (total 13 columns):\n",
      " #   Column                    Non-Null Count   Dtype  \n",
      "---  ------                    --------------   -----  \n",
      " 0   census_block_group        220734 non-null  object \n",
      " 1   date_range_start          220735 non-null  int32  \n",
      " 2   date_range_end            220735 non-null  int32  \n",
      " 3   raw_visit_count           220629 non-null  float64\n",
      " 4   raw_visitor_count         220629 non-null  float64\n",
      " 5   visitor_home_cbgs         220735 non-null  object \n",
      " 6   visitor_work_cbgs         220735 non-null  object \n",
      " 7   distance_from_home        220518 non-null  float64\n",
      " 8   related_same_day_brand    220735 non-null  object \n",
      " 9   related_same_month_brand  220735 non-null  object \n",
      " 10  top_brands                220735 non-null  object \n",
      " 11  popularity_by_hour        220735 non-null  object \n",
      " 12  popularity_by_day         220735 non-null  object \n",
      "dtypes: float64(3), int32(2), object(8)\n",
      "memory usage: 20.2+ MB\n"
     ]
    }
   ],
   "source": [
    "data.info() #数据集概况展示"
   ]
  },
  {
   "cell_type": "code",
   "execution_count": 33,
   "metadata": {},
   "outputs": [
    {
     "data": {
      "text/html": [
       "<div>\n",
       "<style scoped>\n",
       "    .dataframe tbody tr th:only-of-type {\n",
       "        vertical-align: middle;\n",
       "    }\n",
       "\n",
       "    .dataframe tbody tr th {\n",
       "        vertical-align: top;\n",
       "    }\n",
       "\n",
       "    .dataframe thead th {\n",
       "        text-align: right;\n",
       "    }\n",
       "</style>\n",
       "<table border=\"1\" class=\"dataframe\">\n",
       "  <thead>\n",
       "    <tr style=\"text-align: right;\">\n",
       "      <th></th>\n",
       "      <th>census_block_group</th>\n",
       "      <th>date_range_start</th>\n",
       "      <th>date_range_end</th>\n",
       "      <th>raw_visit_count</th>\n",
       "      <th>raw_visitor_count</th>\n",
       "      <th>visitor_home_cbgs</th>\n",
       "      <th>visitor_work_cbgs</th>\n",
       "      <th>distance_from_home</th>\n",
       "      <th>related_same_day_brand</th>\n",
       "      <th>related_same_month_brand</th>\n",
       "      <th>top_brands</th>\n",
       "      <th>popularity_by_hour</th>\n",
       "      <th>popularity_by_day</th>\n",
       "    </tr>\n",
       "  </thead>\n",
       "  <tbody>\n",
       "    <tr>\n",
       "      <th>0</th>\n",
       "      <td>010059508001</td>\n",
       "      <td>1538352000</td>\n",
       "      <td>1541030400</td>\n",
       "      <td>75122.0</td>\n",
       "      <td>18314.0</td>\n",
       "      <td>{\"010059501003\":127,\"010059509001\":111,\"010059...</td>\n",
       "      <td>{\"010059501003\":109,\"010810407002\":62,\"0108104...</td>\n",
       "      <td>194724.0</td>\n",
       "      <td>[\"Chick-fil-A\",\"mcdonalds\",\"Marathon Petroleum...</td>\n",
       "      <td>[\"walmart\",\"mcdonalds\",\"Dollar General\",\"Chick...</td>\n",
       "      <td>[\"CrossFit\",\"Health Mart\",\"Coldwell Banker\"]</td>\n",
       "      <td>[2617,2457,2403,2519,2646,3007,3886,7566,5508,...</td>\n",
       "      <td>{\"Monday\":12000,\"Tuesday\":12224,\"Wednesday\":10...</td>\n",
       "    </tr>\n",
       "    <tr>\n",
       "      <th>1</th>\n",
       "      <td>010090506011</td>\n",
       "      <td>1538352000</td>\n",
       "      <td>1541030400</td>\n",
       "      <td>95649.0</td>\n",
       "      <td>38942.0</td>\n",
       "      <td>{\"010730113021\":210,\"010090506022\":205,\"010090...</td>\n",
       "      <td>{\"010890111001\":271,\"010730045001\":269,\"010439...</td>\n",
       "      <td>120587.0</td>\n",
       "      <td>[\"Shell Oil\",\"mcdonalds\",\"Chick-fil-A\",\"Chevron\"]</td>\n",
       "      <td>[\"walmart\",\"mcdonalds\",\"Shell Oil\",\"Chick-fil-...</td>\n",
       "      <td>[]</td>\n",
       "      <td>[6556,6325,6222,6355,6586,7350,8568,8099,7378,...</td>\n",
       "      <td>{\"Monday\":12125,\"Tuesday\":12984,\"Wednesday\":12...</td>\n",
       "    </tr>\n",
       "    <tr>\n",
       "      <th>2</th>\n",
       "      <td>010479572002</td>\n",
       "      <td>1538352000</td>\n",
       "      <td>1541030400</td>\n",
       "      <td>14009.0</td>\n",
       "      <td>3039.0</td>\n",
       "      <td>{\"010479567011\":67,\"010479567021\":60}</td>\n",
       "      <td>{\"010479567021\":52}</td>\n",
       "      <td>67774.0</td>\n",
       "      <td>[\"Dollar General\"]</td>\n",
       "      <td>[\"walmart\",\"Dollar General\",\"mcdonalds\",\"Chevr...</td>\n",
       "      <td>[\"Dollar General\"]</td>\n",
       "      <td>[807,790,796,786,851,951,1134,1797,1355,1241,1...</td>\n",
       "      <td>{\"Monday\":2314,\"Tuesday\":2340,\"Wednesday\":2195...</td>\n",
       "    </tr>\n",
       "    <tr>\n",
       "      <th>3</th>\n",
       "      <td>010690404001</td>\n",
       "      <td>1538352000</td>\n",
       "      <td>1541030400</td>\n",
       "      <td>128169.0</td>\n",
       "      <td>25418.0</td>\n",
       "      <td>{\"010690402013\":370,\"010690402011\":322,\"010690...</td>\n",
       "      <td>{\"010690402024\":313,\"010690415004\":203,\"010450...</td>\n",
       "      <td>42684.0</td>\n",
       "      <td>[\"Chick-fil-A\",\"Sam's Club\",\"Dollar General\",\"...</td>\n",
       "      <td>[\"walmart\",\"Dollar General\",\"mcdonalds\",\"Marat...</td>\n",
       "      <td>[\"Chick-fil-A\",\"Sam's Club\",\"Olive Garden\",\"mc...</td>\n",
       "      <td>[2121,1828,1784,1704,1861,2373,3730,7497,7093,...</td>\n",
       "      <td>{\"Monday\":21141,\"Tuesday\":21143,\"Wednesday\":17...</td>\n",
       "    </tr>\n",
       "    <tr>\n",
       "      <th>4</th>\n",
       "      <td>010730112101</td>\n",
       "      <td>1538352000</td>\n",
       "      <td>1541030400</td>\n",
       "      <td>51453.0</td>\n",
       "      <td>9499.0</td>\n",
       "      <td>{\"010090507001\":183,\"010730113021\":167,\"010730...</td>\n",
       "      <td>{\"010730045001\":140,\"010730027001\":123,\"010730...</td>\n",
       "      <td>18878.0</td>\n",
       "      <td>[\"Chevron\",\"Daylight Donuts\",\"walmart\"]</td>\n",
       "      <td>[\"walmart\",\"Chevron\",\"Dollar General\",\"Shell O...</td>\n",
       "      <td>[\"Chevron\",\"CrossFit\"]</td>\n",
       "      <td>[3804,3716,3686,3672,3735,4115,4855,5946,4526,...</td>\n",
       "      <td>{\"Monday\":8402,\"Tuesday\":8414,\"Wednesday\":8550...</td>\n",
       "    </tr>\n",
       "  </tbody>\n",
       "</table>\n",
       "</div>"
      ],
      "text/plain": [
       "  census_block_group  date_range_start  date_range_end  raw_visit_count  \\\n",
       "0       010059508001        1538352000      1541030400          75122.0   \n",
       "1       010090506011        1538352000      1541030400          95649.0   \n",
       "2       010479572002        1538352000      1541030400          14009.0   \n",
       "3       010690404001        1538352000      1541030400         128169.0   \n",
       "4       010730112101        1538352000      1541030400          51453.0   \n",
       "\n",
       "   raw_visitor_count                                  visitor_home_cbgs  \\\n",
       "0            18314.0  {\"010059501003\":127,\"010059509001\":111,\"010059...   \n",
       "1            38942.0  {\"010730113021\":210,\"010090506022\":205,\"010090...   \n",
       "2             3039.0              {\"010479567011\":67,\"010479567021\":60}   \n",
       "3            25418.0  {\"010690402013\":370,\"010690402011\":322,\"010690...   \n",
       "4             9499.0  {\"010090507001\":183,\"010730113021\":167,\"010730...   \n",
       "\n",
       "                                   visitor_work_cbgs  distance_from_home  \\\n",
       "0  {\"010059501003\":109,\"010810407002\":62,\"0108104...            194724.0   \n",
       "1  {\"010890111001\":271,\"010730045001\":269,\"010439...            120587.0   \n",
       "2                                {\"010479567021\":52}             67774.0   \n",
       "3  {\"010690402024\":313,\"010690415004\":203,\"010450...             42684.0   \n",
       "4  {\"010730045001\":140,\"010730027001\":123,\"010730...             18878.0   \n",
       "\n",
       "                              related_same_day_brand  \\\n",
       "0  [\"Chick-fil-A\",\"mcdonalds\",\"Marathon Petroleum...   \n",
       "1  [\"Shell Oil\",\"mcdonalds\",\"Chick-fil-A\",\"Chevron\"]   \n",
       "2                                 [\"Dollar General\"]   \n",
       "3  [\"Chick-fil-A\",\"Sam's Club\",\"Dollar General\",\"...   \n",
       "4            [\"Chevron\",\"Daylight Donuts\",\"walmart\"]   \n",
       "\n",
       "                            related_same_month_brand  \\\n",
       "0  [\"walmart\",\"mcdonalds\",\"Dollar General\",\"Chick...   \n",
       "1  [\"walmart\",\"mcdonalds\",\"Shell Oil\",\"Chick-fil-...   \n",
       "2  [\"walmart\",\"Dollar General\",\"mcdonalds\",\"Chevr...   \n",
       "3  [\"walmart\",\"Dollar General\",\"mcdonalds\",\"Marat...   \n",
       "4  [\"walmart\",\"Chevron\",\"Dollar General\",\"Shell O...   \n",
       "\n",
       "                                          top_brands  \\\n",
       "0       [\"CrossFit\",\"Health Mart\",\"Coldwell Banker\"]   \n",
       "1                                                 []   \n",
       "2                                 [\"Dollar General\"]   \n",
       "3  [\"Chick-fil-A\",\"Sam's Club\",\"Olive Garden\",\"mc...   \n",
       "4                             [\"Chevron\",\"CrossFit\"]   \n",
       "\n",
       "                                  popularity_by_hour  \\\n",
       "0  [2617,2457,2403,2519,2646,3007,3886,7566,5508,...   \n",
       "1  [6556,6325,6222,6355,6586,7350,8568,8099,7378,...   \n",
       "2  [807,790,796,786,851,951,1134,1797,1355,1241,1...   \n",
       "3  [2121,1828,1784,1704,1861,2373,3730,7497,7093,...   \n",
       "4  [3804,3716,3686,3672,3735,4115,4855,5946,4526,...   \n",
       "\n",
       "                                   popularity_by_day  \n",
       "0  {\"Monday\":12000,\"Tuesday\":12224,\"Wednesday\":10...  \n",
       "1  {\"Monday\":12125,\"Tuesday\":12984,\"Wednesday\":12...  \n",
       "2  {\"Monday\":2314,\"Tuesday\":2340,\"Wednesday\":2195...  \n",
       "3  {\"Monday\":21141,\"Tuesday\":21143,\"Wednesday\":17...  \n",
       "4  {\"Monday\":8402,\"Tuesday\":8414,\"Wednesday\":8550...  "
      ]
     },
     "execution_count": 33,
     "metadata": {},
     "output_type": "execute_result"
    }
   ],
   "source": [
    "data.head() #数据集前5行数据展示"
   ]
  },
  {
   "cell_type": "markdown",
   "metadata": {},
   "source": [
    "### 标称属性摘要\n",
    "\n",
    "   该数据集中的标称属性为唯一代码（census_block_group），因为是唯一代码，所以每个数值出现且仅出现一次。所以频数均为1。"
   ]
  },
  {
   "cell_type": "code",
   "execution_count": 34,
   "metadata": {},
   "outputs": [],
   "source": [
    "#定义数据频数展示函数\n",
    "def ab_data(attr_name):\n",
    "    attr = data[attr_name]\n",
    "    counts = attr.value_counts() #统计不同类别及出现频率\n",
    "    print(\"Colunm name：\",attr_name) #属性名称\n",
    "    print(\"Different values：\",len(counts)) #不同类别个数\n",
    "    attr_l=counts.to_frame()\n",
    "    attr_l.rename(columns={attr_name: 'counts'}, inplace=True)\n",
    "    print(attr_l.iloc[:10])\n",
    "    plt.bar(np.arange(10), counts.iloc[:10])\n",
    "    plt.title(attr_name)\n",
    "    plt.show()"
   ]
  },
  {
   "cell_type": "code",
   "execution_count": 35,
   "metadata": {},
   "outputs": [
    {
     "name": "stdout",
     "output_type": "stream",
     "text": [
      "Colunm name： census_block_group\n",
      "Different values： 220734\n",
      "              counts\n",
      "530530720003       1\n",
      "170318256003       1\n",
      "410390045023       1\n",
      "360050430001       1\n",
      "270530263021       1\n",
      "482150204032       1\n",
      "484391135162       1\n",
      "720210318003       1\n",
      "040134222122       1\n",
      "170438467023       1\n"
     ]
    },
    {
     "data": {
      "image/png": "[encoded data removed]",
      "text/plain": [
       "<Figure size 432x288 with 1 Axes>"
      ]
     },
     "metadata": {
      "needs_background": "light"
     },
     "output_type": "display_data"
    },
    {
     "name": "stdout",
     "output_type": "stream",
     "text": [
      "Colunm name： related_same_day_brand\n",
      "Different values： 73198\n",
      "                          counts\n",
      "[]                         35542\n",
      "[\"Dunkin' Donuts\"]          7010\n",
      "[\"starbucks\"]               4178\n",
      "[\"walmart\"]                 3054\n",
      "[\"mcdonalds\"]               2911\n",
      "[\"Wawa\"]                    2831\n",
      "[\"7-Eleven US\"]             2403\n",
      "[\"Publix Super Markets\"]    2272\n",
      "[\"QuikTrip\"]                1812\n",
      "[\"Kroger\"]                  1256\n"
     ]
    },
    {
     "data": {
      "image/png": "[encoded data removed]",
      "text/plain": [
       "<Figure size 432x288 with 1 Axes>"
      ]
     },
     "metadata": {
      "needs_background": "light"
     },
     "output_type": "display_data"
    }
   ],
   "source": [
    "#标称属性的数据频数展示\n",
    "ab_data('census_block_group')\n",
    "ab_data('related_same_day_brand')"
   ]
  },
  {
   "cell_type": "markdown",
   "metadata": {},
   "source": [
    "### 数值属性摘要\n",
    "\n",
    "   该数据集中的数值属性包括开始时间（date_range_start），结束时间（date_range_end）、专家组访问次数（raw_visit_count）、访问者数量（raw_visitor_count）、距离（distance_from_home）。通过观察数据可以看到开始时间和结束时间均相同，因此不对这两个属性进行分析。\n",
    "   下面对专家组访问次数（raw_visit_count）、访问者数量（raw_visitor_count）以及距离（distance_from_home）三个数值属性进行最小值、第一四份位数、平均值、第三四分位数、最大值进行就算给出五数概括，并计算缺失值个数。"
   ]
  },
  {
   "cell_type": "code",
   "execution_count": 36,
   "metadata": {},
   "outputs": [],
   "source": [
    "# 数值数据的五数概括函数及缺失值个数\n",
    "def data_five(att_n):\n",
    "    data_r=data[att_n]\n",
    "    data_min=data_r.min()\n",
    "    data_max=data_r.max()\n",
    "    data_1=data_r.quantile(.25)\n",
    "    data_2=data_r.quantile(.50)\n",
    "    data_3=data_r.quantile(.75)\n",
    "    data_n=data_r.isnull().sum()\n",
    "    print(\"{}的五数概括为：{}, {}, {}, {}, {}；缺失值个数为：{}\".format(att_n,data_min,data_1,data_2,data_3,data_max,data_n))"
   ]
  },
  {
   "cell_type": "code",
   "execution_count": 37,
   "metadata": {},
   "outputs": [
    {
     "name": "stdout",
     "output_type": "stream",
     "text": [
      "raw_visit_count的五数概括为：60.0, 17042.0, 30640.0, 56678.0, 7179900.0；缺失值个数为：106\n",
      "\n",
      "raw_visitor_count的五数概括为：50.0, 3430.0, 6541.0, 13099.0, 6113949.0；缺失值个数为：106\n",
      "\n",
      "distance_from_home的五数概括为：706.0, 8584.0, 14614.0, 31397.75, 6297845.0；缺失值个数为：217\n",
      "\n"
     ]
    }
   ],
   "source": [
    "data_five('raw_visit_count')\n",
    "print()\n",
    "data_five('raw_visitor_count')\n",
    "print()\n",
    "data_five('distance_from_home')\n",
    "print()"
   ]
  },
  {
   "cell_type": "markdown",
   "metadata": {},
   "source": [
    "### 数据可视化展示\n",
    "\n",
    "通过直方图、q-q图以及盒图检查数据的分布以及离群点。"
   ]
  },
  {
   "cell_type": "code",
   "execution_count": 38,
   "metadata": {},
   "outputs": [],
   "source": [
    "#绘制直方图函数\n",
    "def draw_bar(data,att_name):\n",
    "    col=data[att_name].dropna()\n",
    "    plt.hist(col,100)\n",
    "    plt.title(att_name)\n",
    "    plt.show()\n",
    "def draw_qq(data,att_name):\n",
    "    col=data[att_name].dropna()\n",
    "    col = (col - col.mean()) / col.std()\n",
    "    fig = sm.qqplot(col, line='45')\n",
    "    plt.title('q-q plot')\n",
    "    plt.show()\n",
    "def draw_box(data,att_name):\n",
    "    fig, ax = plt.subplots(figsize=(5, 6))\n",
    "    ax.set_title(att_name)\n",
    "    ax.boxplot(data[att_name].dropna())\n",
    "    plt.show()"
   ]
  },
  {
   "cell_type": "markdown",
   "metadata": {},
   "source": [
    "#### 直方图和Q-Q图\n",
    "\n",
    "raw_visit_count的直方图和Q-Q图如下所示："
   ]
  },
  {
   "cell_type": "code",
   "execution_count": 39,
   "metadata": {},
   "outputs": [
    {
     "data": {
      "image/png": "[encoded data removed]",
      "text/plain": [
       "<Figure size 432x288 with 1 Axes>"
      ]
     },
     "metadata": {
      "needs_background": "light"
     },
     "output_type": "display_data"
    }
   ],
   "source": [
    "draw_bar(data,'raw_visit_count') #直方图"
   ]
  },
  {
   "cell_type": "code",
   "execution_count": 40,
   "metadata": {},
   "outputs": [
    {
     "data": {
      "image/png": "[encoded data removed]",
      "text/plain": [
       "<Figure size 432x288 with 1 Axes>"
      ]
     },
     "metadata": {
      "needs_background": "light"
     },
     "output_type": "display_data"
    }
   ],
   "source": [
    "draw_qq(data,'raw_visit_count') #Q-Q图"
   ]
  },
  {
   "cell_type": "markdown",
   "metadata": {},
   "source": [
    "\n",
    "从直方图和Q-Q图中可以看出raw_visit_count中的数据不满足满足正态分布，分布不均匀。"
   ]
  },
  {
   "cell_type": "markdown",
   "metadata": {},
   "source": [
    "raw_visitor_count的直方图和Q-Q图如下图所示"
   ]
  },
  {
   "cell_type": "code",
   "execution_count": 41,
   "metadata": {},
   "outputs": [
    {
     "data": {
      "image/png": "[encoded data removed]",
      "text/plain": [
       "<Figure size 432x288 with 1 Axes>"
      ]
     },
     "metadata": {
      "needs_background": "light"
     },
     "output_type": "display_data"
    }
   ],
   "source": [
    "draw_bar(data,'raw_visitor_count') #直方图"
   ]
  },
  {
   "cell_type": "code",
   "execution_count": 42,
   "metadata": {},
   "outputs": [
    {
     "data": {
      "image/png": "[encoded data removed]",
      "text/plain": [
       "<Figure size 432x288 with 1 Axes>"
      ]
     },
     "metadata": {
      "needs_background": "light"
     },
     "output_type": "display_data"
    }
   ],
   "source": [
    "draw_qq(data,\"raw_visitor_count\") #Q-Q图"
   ]
  },
  {
   "cell_type": "markdown",
   "metadata": {},
   "source": [
    "从raw_visitor_count的直方图和Q-Q图可以看出raw_visitor_count中的数据不满足正态分布，分布不均匀。"
   ]
  },
  {
   "cell_type": "markdown",
   "metadata": {},
   "source": [
    "distance_from_home的直方图和Q-Q图如下图所示"
   ]
  },
  {
   "cell_type": "code",
   "execution_count": 43,
   "metadata": {},
   "outputs": [
    {
     "data": {
      "image/png": "[encoded data removed]",
      "text/plain": [
       "<Figure size 432x288 with 1 Axes>"
      ]
     },
     "metadata": {
      "needs_background": "light"
     },
     "output_type": "display_data"
    }
   ],
   "source": [
    "draw_bar(data,'distance_from_home') #直方图"
   ]
  },
  {
   "cell_type": "code",
   "execution_count": 44,
   "metadata": {},
   "outputs": [
    {
     "data": {
      "image/png": "[encoded data removed]",
      "text/plain": [
       "<Figure size 432x288 with 1 Axes>"
      ]
     },
     "metadata": {
      "needs_background": "light"
     },
     "output_type": "display_data"
    }
   ],
   "source": [
    "draw_qq(data,\"distance_from_home\") #Q-Q图"
   ]
  },
  {
   "cell_type": "markdown",
   "metadata": {},
   "source": [
    "从distance_from_home的直方图和Q-Q图可以看出distance_from_home中的数据不满足正态分布，分布不均匀。"
   ]
  },
  {
   "cell_type": "markdown",
   "metadata": {},
   "source": [
    "#### 盒图"
   ]
  },
  {
   "cell_type": "markdown",
   "metadata": {},
   "source": [
    "raw_visit_count的盒图如下图所示"
   ]
  },
  {
   "cell_type": "code",
   "execution_count": 45,
   "metadata": {},
   "outputs": [
    {
     "data": {
      "image/png": "[encoded data removed]",
      "text/plain": [
       "<Figure size 360x432 with 1 Axes>"
      ]
     },
     "metadata": {
      "needs_background": "light"
     },
     "output_type": "display_data"
    }
   ],
   "source": [
    "#raw_visit_count的盒图\n",
    "draw_box(data,'raw_visit_count')"
   ]
  },
  {
   "cell_type": "markdown",
   "metadata": {},
   "source": [
    "从points的盒图中我们也可以看出数据分布较为均匀，存在四个可能的离群点。"
   ]
  },
  {
   "cell_type": "code",
   "execution_count": 46,
   "metadata": {},
   "outputs": [
    {
     "data": {
      "image/png": "[encoded data removed]",
      "text/plain": [
       "<Figure size 360x432 with 1 Axes>"
      ]
     },
     "metadata": {
      "needs_background": "light"
     },
     "output_type": "display_data"
    }
   ],
   "source": [
    "#raw_visitor_count的盒图\n",
    "draw_box(data,'raw_visitor_count')"
   ]
  },
  {
   "cell_type": "markdown",
   "metadata": {},
   "source": [
    "从price的盒图中我们同样可以看出数据存在着不平衡，偏向于较小的值，且数据越大，数据点越稀疏。我们可以看到较多的可能离群点，数据越稀疏的区域是离群点的可能性越大。"
   ]
  },
  {
   "cell_type": "code",
   "execution_count": 47,
   "metadata": {},
   "outputs": [
    {
     "data": {
      "image/png": "[encoded data removed]",
      "text/plain": [
       "<Figure size 360x432 with 1 Axes>"
      ]
     },
     "metadata": {
      "needs_background": "light"
     },
     "output_type": "display_data"
    }
   ],
   "source": [
    "#distance_from_home的盒图\n",
    "draw_box(data,'distance_from_home')"
   ]
  },
  {
   "cell_type": "markdown",
   "metadata": {},
   "source": [
    "从distance_from_home的盒图中我们同样可以看出数据存在着不平衡，偏向于较小的值，且数据越大，数据点越稀疏。我们可以看到较多的可能离群点，数据越稀疏的区域是离群点的可能性越大。"
   ]
  },
  {
   "cell_type": "markdown",
   "metadata": {},
   "source": [
    "## 2.2 数据缺失值处理\n",
    "\n",
    "在这部分我们将分析数据缺失的原因，并通过缺失部分剔除、用高频率值填补缺失值、通过属性的相关关系填补缺失值\n",
    "\n",
    "以及通过数据对象之间的相似性填补缺失值四种策略进行缺失值处理，并进行新旧数据集对比。\n"
   ]
  },
  {
   "cell_type": "code",
   "execution_count": 48,
   "metadata": {},
   "outputs": [
    {
     "data": {
      "text/plain": [
       "census_block_group            1\n",
       "date_range_start              0\n",
       "date_range_end                0\n",
       "raw_visit_count             106\n",
       "raw_visitor_count           106\n",
       "visitor_home_cbgs             0\n",
       "visitor_work_cbgs             0\n",
       "distance_from_home          217\n",
       "related_same_day_brand        0\n",
       "related_same_month_brand      0\n",
       "top_brands                    0\n",
       "popularity_by_hour            0\n",
       "popularity_by_day             0\n",
       "dtype: int64"
      ]
     },
     "execution_count": 48,
     "metadata": {},
     "output_type": "execute_result"
    }
   ],
   "source": [
    "# 对数据中的缺失值进行分析\n",
    "data.isna().sum()"
   ]
  },
  {
   "cell_type": "markdown",
   "metadata": {},
   "source": [
    "#### 缺失值原因分析：####\n",
    "我们可以看到raw_visit_count、raw_visitor_count、distance_from_home 存在缺失值，它们的含义分别为专家访问次数、看到的唯一访问者数量以及访客到CBG的举例。\n",
    "从缺失情况和属性含义上我们可以看出raw_visit_count、raw_visitor_count缺失的原因可能是相同的，原因在于未被访问。同时这部分未被访问者的distance_from_home同样缺失。distance_from_home另一个缺失的原因可能是未记录数据。"
   ]
  },
  {
   "cell_type": "markdown",
   "metadata": {},
   "source": [
    "#### 将缺失部分剔除"
   ]
  },
  {
   "cell_type": "code",
   "execution_count": 49,
   "metadata": {},
   "outputs": [],
   "source": [
    "data_new=data.dropna()"
   ]
  },
  {
   "cell_type": "code",
   "execution_count": 50,
   "metadata": {},
   "outputs": [
    {
     "name": "stdout",
     "output_type": "stream",
     "text": [
      "<class 'pandas.core.frame.DataFrame'>\n",
      "Int64Index: 220518 entries, 0 to 220628\n",
      "Data columns (total 13 columns):\n",
      " #   Column                    Non-Null Count   Dtype  \n",
      "---  ------                    --------------   -----  \n",
      " 0   census_block_group        220518 non-null  object \n",
      " 1   date_range_start          220518 non-null  int32  \n",
      " 2   date_range_end            220518 non-null  int32  \n",
      " 3   raw_visit_count           220518 non-null  float64\n",
      " 4   raw_visitor_count         220518 non-null  float64\n",
      " 5   visitor_home_cbgs         220518 non-null  object \n",
      " 6   visitor_work_cbgs         220518 non-null  object \n",
      " 7   distance_from_home        220518 non-null  float64\n",
      " 8   related_same_day_brand    220518 non-null  object \n",
      " 9   related_same_month_brand  220518 non-null  object \n",
      " 10  top_brands                220518 non-null  object \n",
      " 11  popularity_by_hour        220518 non-null  object \n",
      " 12  popularity_by_day         220518 non-null  object \n",
      "dtypes: float64(3), int32(2), object(8)\n",
      "memory usage: 21.9+ MB\n"
     ]
    }
   ],
   "source": [
    "data_new.info()"
   ]
  },
  {
   "cell_type": "markdown",
   "metadata": {},
   "source": [
    "从上面的结果我们可以看到数据集中已经没有缺失的数据集,数据条数为220518条。下面我们通过对新数据集中raw_visit_count的数据摘要的分析探究缺失值去除后对数据集的影响。"
   ]
  },
  {
   "cell_type": "code",
   "execution_count": 51,
   "metadata": {},
   "outputs": [
    {
     "data": {
      "image/png": "[encoded data removed]",
      "text/plain": [
       "<Figure size 432x288 with 1 Axes>"
      ]
     },
     "metadata": {
      "needs_background": "light"
     },
     "output_type": "display_data"
    }
   ],
   "source": [
    "draw_bar(data_new,'raw_visit_count') #新数据"
   ]
  },
  {
   "cell_type": "code",
   "execution_count": 52,
   "metadata": {},
   "outputs": [
    {
     "data": {
      "image/png": "[encoded data removed]",
      "text/plain": [
       "<Figure size 432x288 with 1 Axes>"
      ]
     },
     "metadata": {
      "needs_background": "light"
     },
     "output_type": "display_data"
    }
   ],
   "source": [
    "draw_bar(data,'raw_visit_count') #原数据"
   ]
  },
  {
   "cell_type": "markdown",
   "metadata": {},
   "source": [
    "从直方图上进行观察，数据的分布并没有太大变化，所以通过去除属性raw_visit_count缺失值的方式对数据集的数据分布影响不大。"
   ]
  },
  {
   "cell_type": "markdown",
   "metadata": {},
   "source": [
    "#### 用高频率值填补缺失值 ####\n",
    "\n",
    "这里我们以raw_visit_count属性为例。"
   ]
  },
  {
   "cell_type": "code",
   "execution_count": 53,
   "metadata": {},
   "outputs": [
    {
     "name": "stdout",
     "output_type": "stream",
     "text": [
      "众数为： 24531.0\n",
      "新数据直方图：\n"
     ]
    },
    {
     "data": {
      "image/png": "[encoded data removed]",
      "text/plain": [
       "<Figure size 432x288 with 1 Axes>"
      ]
     },
     "metadata": {
      "needs_background": "light"
     },
     "output_type": "display_data"
    },
    {
     "name": "stdout",
     "output_type": "stream",
     "text": [
      "原数据直方图：\n"
     ]
    },
    {
     "data": {
      "image/png": "[encoded data removed]",
      "text/plain": [
       "<Figure size 432x288 with 1 Axes>"
      ]
     },
     "metadata": {
      "needs_background": "light"
     },
     "output_type": "display_data"
    }
   ],
   "source": [
    "mode = data.mode()['raw_visit_count'][0]\n",
    "data_h=data.fillna({'raw_visit_count':mode})\n",
    "print('众数为：',mode)\n",
    "print(\"新数据直方图：\")\n",
    "draw_bar(data_h,'raw_visit_count')\n",
    "print(\"原数据直方图：\")\n",
    "draw_bar(data,'raw_visit_count')"
   ]
  },
  {
   "cell_type": "markdown",
   "metadata": {},
   "source": [
    "从直方图的比较来看，对raw_visit_count属性利用高频率值进行缺失值填充对数据分布影响不大。"
   ]
  },
  {
   "cell_type": "markdown",
   "metadata": {},
   "source": [
    "#### 通过属性的相关关系填补缺失值"
   ]
  },
  {
   "cell_type": "markdown",
   "metadata": {},
   "source": [
    "首先我们通过相关性矩阵分析属性之间的相关关系。"
   ]
  },
  {
   "cell_type": "code",
   "execution_count": 54,
   "metadata": {},
   "outputs": [
    {
     "data": {
      "image/png": "[encoded data removed]",
      "text/plain": [
       "<Figure size 432x288 with 2 Axes>"
      ]
     },
     "metadata": {
      "needs_background": "light"
     },
     "output_type": "display_data"
    }
   ],
   "source": [
    "names = ['raw_visit_count', 'raw_visitor_count', 'distance_from_home']\n",
    "data_r=data.dropna(subset=['raw_visit_count', 'raw_visitor_count', 'distance_from_home'])\n",
    "correlations = data_r.corr()\n",
    "fig = plt.figure() \n",
    "ax = sns.heatmap(correlations,cmap=plt.cm.Greys, linewidths=0.05,vmax=1, vmin=0 ,annot=True,annot_kws={'size':6,'weight':'bold'})\n",
    "plt.xticks(np.arange(3)+0.5,names)\n",
    "plt.yticks(np.arange(3)+0.5,names)\n",
    "ax.set_title('Characteristic correlation')\n",
    "plt.savefig('cluster.tif',dpi=300)\n",
    "plt.show()"
   ]
  },
  {
   "cell_type": "markdown",
   "metadata": {},
   "source": [
    "   从上图中我们可以看到存在明显相关性的属性是raw_visit_count和raw_visitor_count，而distance_from_home属性和另外两组属性可以看作几乎无关联。因此我们利用相关关系对raw_visit_count和raw_visitor_count属性进行填充。\n",
    "   从数据中我们可以看到这两个属性均为同时缺失。从属性含义来看，我认为这两个属性可以同时填充0是比较合适的。"
   ]
  },
  {
   "cell_type": "code",
   "execution_count": 55,
   "metadata": {},
   "outputs": [
    {
     "name": "stdout",
     "output_type": "stream",
     "text": [
      "新数据直方图：\n"
     ]
    },
    {
     "data": {
      "image/png": "[encoded data removed]",
      "text/plain": [
       "<Figure size 432x288 with 1 Axes>"
      ]
     },
     "metadata": {
      "needs_background": "light"
     },
     "output_type": "display_data"
    },
    {
     "name": "stdout",
     "output_type": "stream",
     "text": [
      "原数据直方图：\n"
     ]
    },
    {
     "data": {
      "image/png": "[encoded data removed]",
      "text/plain": [
       "<Figure size 432x288 with 1 Axes>"
      ]
     },
     "metadata": {
      "needs_background": "light"
     },
     "output_type": "display_data"
    }
   ],
   "source": [
    "data_r1=data.fillna({'raw_visit_count':0})\n",
    "print(\"新数据直方图：\")\n",
    "draw_bar(data_h,'raw_visit_count')\n",
    "print(\"原数据直方图：\")\n",
    "draw_bar(data,'raw_visit_count')"
   ]
  },
  {
   "cell_type": "markdown",
   "metadata": {},
   "source": [
    "从直方图看，对属性raw_visit_count缺失值的填充同样影响较小。"
   ]
  },
  {
   "cell_type": "markdown",
   "metadata": {},
   "source": [
    "#### 通过数据对象之间的相似性填补缺失值"
   ]
  },
  {
   "cell_type": "markdown",
   "metadata": {},
   "source": [
    "通过对数据缺失值的分析，distance_from_home属性可以利用数据对象之间的相似性进行缺失值的填充，但是通过上面的相关性分析可以看出distance_from_home和另外两组数值属性关联性不强，所以对利用数据对象之间的相似性进行缺失值填充意义不大。"
   ]
  },
  {
   "cell_type": "markdown",
   "metadata": {},
   "source": [
    "#### 对缺失值处理的总结####"
   ]
  },
  {
   "cell_type": "markdown",
   "metadata": {},
   "source": [
    "从以上新旧数据集的数据分布对比来看，由于该数据集分布并不均匀并且缺失数据个数较整体数据集个数少很多，因此，对于这个数据集来说，缺失数据集的处理对于最终的结果影响不大，并且从缺失值的特点来看，我觉的在后续处理的时候可以将缺失值直接删除。"
   ]
  }
 ],
 "metadata": {
  "kernelspec": {
   "display_name": "Python 3",
   "language": "python",
   "name": "python3"
  },
  "language_info": {
   "codemirror_mode": {
    "name": "ipython",
    "version": 3
   },
   "file_extension": ".py",
   "mimetype": "text/x-python",
   "name": "python",
   "nbconvert_exporter": "python",
   "pygments_lexer": "ipython3",
   "version": "3.7.6"
  }
 },
 "nbformat": 4,
 "nbformat_minor": 2
}
